{
 "cells": [
  {
   "cell_type": "code",
   "execution_count": 2,
   "metadata": {
    "collapsed": true
   },
   "outputs": [],
   "source": [
    "import numpy as np\n",
    "import matplotlib.pyplot as plt\n",
    "import os\n",
    "import subprocess\n",
    "%matplotlib inline"
   ]
  },
  {
   "cell_type": "markdown",
   "metadata": {},
   "source": [
    "# 単体ペーシング時のイオン電流\n",
    "- xica\n",
    "- xik1\n",
    "- xikr\n",
    "- xiks\n",
    "- xina\n",
    "- xiNaCa\n",
    "- xiNaK\n",
    "- xitof\n",
    "- xitos"
   ]
  },
  {
   "cell_type": "code",
   "execution_count": 3,
   "metadata": {
    "collapsed": true
   },
   "outputs": [],
   "source": [
    "xica = np.zeros((360))\n",
    "xik1 = np.zeros((360))\n",
    "xikr = np.zeros((360))\n",
    "xiks = np.zeros((360))\n",
    "xina = np.zeros((360))\n",
    "xiNaCa = np.zeros((360))\n",
    "xiNaK = np.zeros((360))\n",
    "xitof = np.zeros((360))\n",
    "xitos = np.zeros((360))\n",
    "vmem = np.zeros((360))"
   ]
  },
  {
   "cell_type": "code",
   "execution_count": 4,
   "metadata": {},
   "outputs": [],
   "source": [
    "for i in range(360):\n",
    "    num = '{0:05d}'.format(i+5041)\n",
    "    xica[i] = np.load('/mnt/recordings/SimulationResults/20170624-1/%s/xica.npy' % num)\n",
    "    xik1[i] = np.load('/mnt/recordings/SimulationResults/20170624-1/%s/xik1.npy' % num)\n",
    "    xikr[i] = np.load('/mnt/recordings/SimulationResults/20170624-1/%s/xikr.npy' % num)\n",
    "    xiks[i] = np.load('/mnt/recordings/SimulationResults/20170624-1/%s/xiks.npy' % num)\n",
    "    xina[i] = np.load('/mnt/recordings/SimulationResults/20170624-1/%s/xina.npy' % num)\n",
    "    xiNaCa[i] = np.load('/mnt/recordings/SimulationResults/20170624-1/%s/xiNaCa.npy' % num)\n",
    "    xiNaK[i] = np.load('/mnt/recordings/SimulationResults/20170624-1/%s/xiNaK.npy' % num)\n",
    "    xitof[i] = np.load('/mnt/recordings/SimulationResults/20170624-1/%s/xitof.npy' % num)\n",
    "    xitos[i] = np.load('/mnt/recordings/SimulationResults/20170624-1/%s/xitos.npy' % num)\n",
    "    vmem[i] = np.load('/mnt/recordings/SimulationResults/20170624-1/%s/v.npy' % num)"
   ]
  },
  {
   "cell_type": "code",
   "execution_count": 20,
   "metadata": {},
   "outputs": [],
   "source": [
    "plt.subplot(2,1,1)\n",
    "plt.plot(vmem)\n",
    "plt.title(r'Membrane potential [$mV$]')\n",
    "plt.subplot(2,1,2)\n",
    "##\n",
    "plt.plot(xitos)\n",
    "##\n",
    "plt.title(r'$I_{tos}$ current [$\\mu A/{cm}^2$]')\n",
    "plt.xlabel('Time [ms]')\n",
    "plt.tight_layout()\n",
    "##\n",
    "plt.savefig('/mnt/recordings/AnalysisResult/Seno/simulation/Mahajan/20170705/xitos.png', transparent=True, dpi=300)\n",
    "plt.close()"
   ]
  },
  {
   "cell_type": "code",
   "execution_count": null,
   "metadata": {
    "collapsed": true
   },
   "outputs": [],
   "source": []
  },
  {
   "cell_type": "code",
   "execution_count": null,
   "metadata": {
    "collapsed": true
   },
   "outputs": [],
   "source": []
  }
 ],
 "metadata": {
  "kernelspec": {
   "display_name": "Python 2",
   "language": "python",
   "name": "python2"
  },
  "language_info": {
   "codemirror_mode": {
    "name": "ipython",
    "version": 2
   },
   "file_extension": ".py",
   "mimetype": "text/x-python",
   "name": "python",
   "nbconvert_exporter": "python",
   "pygments_lexer": "ipython2",
   "version": "2.7.13"
  }
 },
 "nbformat": 4,
 "nbformat_minor": 2
}
