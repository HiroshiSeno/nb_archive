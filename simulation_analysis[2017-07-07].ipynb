{
 "cells": [
  {
   "cell_type": "code",
   "execution_count": 5,
   "metadata": {
    "collapsed": true
   },
   "outputs": [],
   "source": [
    "import numpy as np\n",
    "import matplotlib.pyplot as plt\n",
    "import os\n",
    "%matplotlib inline"
   ]
  },
  {
   "cell_type": "code",
   "execution_count": 6,
   "metadata": {
    "collapsed": true
   },
   "outputs": [],
   "source": [
    "from opmap.RawCam import RawCam\n",
    "from opmap.VmemMap import VmemMap\n",
    "from opmap.PhaseMap import PhaseMap\n",
    "from opmap.PhaseVarianceMap import PhaseVarianceMap\n",
    "from opmap.util import makeMovie"
   ]
  },
  {
   "cell_type": "code",
   "execution_count": 51,
   "metadata": {},
   "outputs": [],
   "source": [
    "time = 3600\n",
    "vmem_1D = np.zeros(time)\n",
    "brugada_1D = np.zeros(time)\n",
    "for i in range(time):\n",
    "    num = '{0:05d}'.format(i+1)\n",
    "    vmem_1D[i] = np.load('/mnt/recordings/SimulationResults/20170624-1/%s/v.npy' % num)\n",
    "    brugada_1D[i] = np.load('/mnt/recordings/SimulationResults/20170707-2/%s/v.npy' % num)"
   ]
  },
  {
   "cell_type": "code",
   "execution_count": 53,
   "metadata": {},
   "outputs": [
    {
     "data": {
      "text/plain": [
       "(3420, 3600)"
      ]
     },
     "execution_count": 53,
     "metadata": {},
     "output_type": "execute_result"
    },
    {
     "data": {
      "image/png": "[encoded data removed]",
      "text/plain": [
       "<matplotlib.figure.Figure at 0x7f0729ed7710>"
      ]
     },
     "metadata": {},
     "output_type": "display_data"
    }
   ],
   "source": [
    "plt.plot(brugada_1D)\n",
    "plt.xlim([3420, 3600])"
   ]
  },
  {
   "cell_type": "code",
   "execution_count": 40,
   "metadata": {
    "collapsed": true
   },
   "outputs": [],
   "source": [
    "plt.plot(vmem_1D, label='normal cell model')\n",
    "plt.plot(brugada_1D, label='Brugada cell model')\n",
    "plt.xlim([5220, 5400])\n",
    "plt.xticks([5220, 5240, 5260, 5280, 5300, 5320, 5340, 5360, 5380, 5400], [0, 20, 40, 60, 80, 100, 120, 140, 160, 180])\n",
    "plt.legend(fontsize=12)\n",
    "plt.xlabel('Time [ms]', size=15)\n",
    "plt.ylabel('Membrane potential [mV]', size=15)\n",
    "plt.title('Comparison of action potential', size=20)\n",
    "plt.savefig('/mnt/recordings/AnalysisResult/Seno/simulation/Mahajan/20170707/brugada.png', dpi=300)\n",
    "plt.close()"
   ]
  },
  {
   "cell_type": "code",
   "execution_count": null,
   "metadata": {
    "collapsed": true
   },
   "outputs": [],
   "source": []
  }
 ],
 "metadata": {
  "kernelspec": {
   "display_name": "Python 2",
   "language": "python",
   "name": "python2"
  },
  "language_info": {
   "codemirror_mode": {
    "name": "ipython",
    "version": 2
   },
   "file_extension": ".py",
   "mimetype": "text/x-python",
   "name": "python",
   "nbconvert_exporter": "python",
   "pygments_lexer": "ipython2",
   "version": "2.7.13"
  }
 },
 "nbformat": 4,
 "nbformat_minor": 2
}
