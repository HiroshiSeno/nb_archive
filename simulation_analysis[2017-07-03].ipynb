{
 "cells": [
  {
   "cell_type": "code",
   "execution_count": 1,
   "metadata": {
    "collapsed": true
   },
   "outputs": [],
   "source": [
    "import numpy as np\n",
    "import matplotlib.pyplot as plt\n",
    "import os\n",
    "import subprocess\n",
    "%matplotlib inline"
   ]
  },
  {
   "cell_type": "code",
   "execution_count": 2,
   "metadata": {
    "collapsed": true
   },
   "outputs": [],
   "source": [
    "from opmap.RawCam import RawCam\n",
    "from opmap.VmemMap import VmemMap\n",
    "from opmap.PhaseMap import PhaseMap\n",
    "from opmap.PhaseVarianceMap import PhaseVarianceMap\n",
    "from opmap.util import makeMovie"
   ]
  },
  {
   "cell_type": "markdown",
   "metadata": {},
   "source": [
    "# phaseマップ，phase varianceマップ"
   ]
  },
  {
   "cell_type": "code",
   "execution_count": 11,
   "metadata": {
    "collapsed": true
   },
   "outputs": [],
   "source": [
    "vmem = RawCam(path='/mnt/recordings/SimulationResults/20170628-10/', cam_type='numpy', image_width=200, image_height=200, frame_start=0, frame_end=700)\n",
    "vmem.cmap = VmemMap(vmem).cmap"
   ]
  },
  {
   "cell_type": "code",
   "execution_count": 12,
   "metadata": {
    "collapsed": true
   },
   "outputs": [],
   "source": [
    "vmem.saveImage('/mnt/recordings/AnalysisResult/Seno/simulation/Mahajan/20170704/20170628-10/vmem')"
   ]
  },
  {
   "cell_type": "code",
   "execution_count": 15,
   "metadata": {
    "collapsed": true
   },
   "outputs": [],
   "source": [
    "pmap = PhaseMap(vmem, shrink=2)\n",
    "pmap.saveImage('/mnt/recordings/AnalysisResult/Seno/simulation/Mahajan/20170704/20170628-10/pmap')"
   ]
  },
  {
   "cell_type": "code",
   "execution_count": 18,
   "metadata": {
    "collapsed": true
   },
   "outputs": [],
   "source": [
    "pvmap = PhaseVarianceMap(pmap, size=3)\n",
    "pvmap.saveImage('/mnt/recordings/AnalysisResult/Seno/simulation/Mahajan/20170704/20170628-10/pvmap')"
   ]
  },
  {
   "cell_type": "code",
   "execution_count": 23,
   "metadata": {},
   "outputs": [
    {
     "data": {
      "text/plain": [
       "0"
      ]
     },
     "execution_count": 23,
     "metadata": {},
     "output_type": "execute_result"
    }
   ],
   "source": [
    "subprocess.call('ffmpeg -r 30 -y -i \"/mnt/recordings/AnalysisResult/Seno/simulation/Mahajan/20170704/20170628-10/pvmap/%06d.png\" -c:v libx264 -pix_fmt yuv420p -qscale 0 \"/mnt/recordings/AnalysisResult/Seno/simulation/Mahajan/20170704/20170628-10/movie/pvmap.mp4\"', shell=True)"
   ]
  },
  {
   "cell_type": "markdown",
   "metadata": {},
   "source": [
    "# イオン電流解析\n",
    "- xica\n",
    "- xik1\n",
    "- xikr\n",
    "- xiks\n",
    "- xina\n",
    "- xiNaCa\n",
    "- xiNaK\n",
    "- xitof\n",
    "- xitos"
   ]
  },
  {
   "cell_type": "code",
   "execution_count": 9,
   "metadata": {
    "collapsed": true
   },
   "outputs": [],
   "source": [
    "folders = ['20170711-4', '20170711-5', '20170711-6']\n",
    "ion_currents = ['xica.npy', 'xik1.npy', 'xikr.npy', 'xiks.npy', 'xina.npy', 'xiNaCa.npy', 'xiNaK.npy', 'xitof.npy', 'xitos.npy']"
   ]
  },
  {
   "cell_type": "code",
   "execution_count": 8,
   "metadata": {},
   "outputs": [
    {
     "name": "stdout",
     "output_type": "stream",
     "text": [
      "xica.npy\n",
      "start loading\n",
      "start output\n",
      "xik1.npy\n",
      "start loading\n",
      "start output\n",
      "xikr.npy\n",
      "start loading\n",
      "start output\n",
      "xiks.npy\n",
      "start loading\n",
      "start output\n",
      "xina.npy\n",
      "start loading\n",
      "start output\n",
      "xiNaCa.npy\n",
      "start loading\n",
      "start output\n",
      "xiNaK.npy\n",
      "start loading\n",
      "start output\n",
      "xitof.npy\n",
      "start loading\n",
      "start output\n",
      "xitos.npy\n",
      "start loading\n",
      "start output\n"
     ]
    }
   ],
   "source": [
    "src_dir = '/mnt/recordings/SimulationResults/%s/cell_%s'\n",
    "out_dir = '/mnt/recordings/AnalysisResult/Seno/simulation/Mahajan/20170713/%s/currents/%s'\n",
    "\n",
    "for folder in folders:\n",
    "    for current in ion_currents:\n",
    "        print(current)\n",
    "        if not os.path.exists(out_dir % (folder, current.split('.')[0])):\n",
    "            os.makedirs(out_dir % (folder, current.split('.')[0]))\n",
    "\n",
    "        dat = np.zeros((369, 200, 200))\n",
    "        print('start loading')\n",
    "        for i in range(369):\n",
    "            input_num = '{0:04d}'.format(i)\n",
    "            dat[i, :, :] = np.load(os.path.join(src_dir % (folder, input_num), current))\n",
    "\n",
    "        print('start output')\n",
    "        plt.imshow(dat[0, :, :], vmin=np.min(dat), vmax=np.max(dat), cmap='jet')\n",
    "        plt.colorbar()\n",
    "        plt.savefig(os.path.join((out_dir % (folder, current.split('.')[0])), 'sample.png'))\n",
    "        plt.close()\n",
    "\n",
    "        for i in range(369):\n",
    "            output_num = '{0:06d}'.format(i)\n",
    "            plt.imsave(os.path.join((out_dir % (folder, current.split('.')[0])), ('%s.png' % output_num)), dat[i, :, :], vmin=np.min(dat), vmax=np.max(dat), cmap='jet')\n",
    "\n",
    "        subprocess.call('ffmpeg -r 30 -y -i \"/mnt/recordings/AnalysisResult/Seno/simulation/Mahajan/20170713/{0}/currents/{1}/%06d.png\" -c:v libx264 -pix_fmt yuv420p -qscale 0 \"/mnt/recordings/AnalysisResult/Seno/simulation/Mahajan/20170713/{0}/currents/{1}/movie.mp4\"'.format(folder, current.split('.')[0]), shell=True)"
   ]
  },
  {
   "cell_type": "code",
   "execution_count": 10,
   "metadata": {
    "collapsed": true
   },
   "outputs": [],
   "source": [
    "source_dir = '/mnt/recordings/SimulationResults/%s/'\n",
    "output_dir = '/mnt/recordings/AnalysisResult/Seno/simulation/Mahajan/20170713/%s/%s'\n",
    "for folder in folders:\n",
    "    vmem = RawCam(path=source_dir % folder, cam_type='numpy', image_width=200, image_height=200, frame_start=0, frame_end=400)\n",
    "    vmem.cmap = VmemMap(vmem).cmap\n",
    "    vmem.saveImage(output_dir % (folder, 'vmem'))\n",
    "    subprocess.call('ffmpeg -r 30 -y -i \"/mnt/recordings/AnalysisResult/Seno/simulation/Mahajan/20170713/{0}/{1}/%06d.png\" -c:v libx264 -pix_fmt yuv420p -qscale 0 \"/mnt/recordings/AnalysisResult/Seno/simulation/Mahajan/20170713/{0}/{1}/{1}.mp4\"'.format(folder, 'vmem'), shell=True)\n",
    "    pmap = PhaseMap(vmem, shrink=2)\n",
    "    pmap.saveImage(output_dir % (folder, 'pmap'))\n",
    "    subprocess.call('ffmpeg -r 30 -y -i \"/mnt/recordings/AnalysisResult/Seno/simulation/Mahajan/20170713/{0}/{1}/%06d.png\" -c:v libx264 -pix_fmt yuv420p -qscale 0 \"/mnt/recordings/AnalysisResult/Seno/simulation/Mahajan/20170713/{0}/{1}/{1}.mp4\"'.format(folder, 'pmap'), shell=True)\n",
    "    pvmap = PhaseVarianceMap(pmap, size=3)\n",
    "    pvmap.saveImage(output_dir % (folder, 'pvmap'))\n",
    "    subprocess.call('ffmpeg -r 30 -y -i \"/mnt/recordings/AnalysisResult/Seno/simulation/Mahajan/20170713/{0}/{1}/%06d.png\" -c:v libx264 -pix_fmt yuv420p -qscale 0 \"/mnt/recordings/AnalysisResult/Seno/simulation/Mahajan/20170713/{0}/{1}/{1}.mp4\"'.format(folder, 'pvmap'), shell=True)"
   ]
  },
  {
   "cell_type": "code",
   "execution_count": null,
   "metadata": {
    "collapsed": true
   },
   "outputs": [],
   "source": []
  }
 ],
 "metadata": {
  "kernelspec": {
   "display_name": "Python 2",
   "language": "python",
   "name": "python2"
  },
  "language_info": {
   "codemirror_mode": {
    "name": "ipython",
    "version": 2
   },
   "file_extension": ".py",
   "mimetype": "text/x-python",
   "name": "python",
   "nbconvert_exporter": "python",
   "pygments_lexer": "ipython2",
   "version": "2.7.13"
  }
 },
 "nbformat": 4,
 "nbformat_minor": 2
}
