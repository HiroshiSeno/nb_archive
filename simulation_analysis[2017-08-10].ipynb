{
 "cells": [
  {
   "cell_type": "code",
   "execution_count": 1,
   "metadata": {
    "collapsed": true
   },
   "outputs": [],
   "source": [
    "import numpy as np\n",
    "import matplotlib.pyplot as plt\n",
    "import os\n",
    "%matplotlib inline"
   ]
  },
  {
   "cell_type": "code",
   "execution_count": 2,
   "metadata": {
    "collapsed": true
   },
   "outputs": [],
   "source": [
    "from opmap.RawCam import RawCam\n",
    "from opmap.VmemMap import VmemMap\n",
    "from opmap.PhaseMap import PhaseMap\n",
    "from opmap.PhaseVarianceMap import PhaseVarianceMap\n",
    "from opmap.util import makeMovie"
   ]
  },
  {
   "cell_type": "code",
   "execution_count": 5,
   "metadata": {
    "collapsed": true
   },
   "outputs": [],
   "source": [
    "import subprocess\n",
    "output_name = '20170810'\n",
    "folder_name = '20170809-4'"
   ]
  },
  {
   "cell_type": "markdown",
   "metadata": {
    "collapsed": true
   },
   "source": [
    "# vmem読み込み"
   ]
  },
  {
   "cell_type": "code",
   "execution_count": 10,
   "metadata": {},
   "outputs": [
    {
     "data": {
      "text/plain": [
       "0"
      ]
     },
     "execution_count": 10,
     "metadata": {},
     "output_type": "execute_result"
    }
   ],
   "source": [
    "vmem1 = RawCam(path='/mnt/recordings/SimulationResults/20170804-1', cam_type='numpy', image_width=300, image_height=300, frame_start=0, frame_end=-1)\n",
    "vmem2 = RawCam(path='/mnt/recordings/SimulationResults/20170804-3', cam_type='numpy', image_width=300, image_height=300, frame_start=0, frame_end=-1)\n",
    "vmem1.data = np.vstack((vmem1.data, vmem2.data[1:, :, :]))\n",
    "vmem_temp = VmemMap(vmem1)\n",
    "vmem1.cmap = vmem_temp.cmap\n",
    "vmem1.saveImage('/mnt/recordings/AnalysisResult/Seno/simulation/Mahajan/%s/%s' % (output_name, folder_name))\n",
    "subprocess.call('ffmpeg -r 30 -y -i \"/mnt/recordings/AnalysisResult/Seno/simulation/Mahajan/{0}/{1}/%06d.png\" -c:v libx264 -pix_fmt yuv420p -qscale 0 \"/mnt/recordings/AnalysisResult/Seno/simulation/Mahajan/{0}/{1}/movie.mp4\"'.format(output_name, folder_name), shell=True)"
   ]
  },
  {
   "cell_type": "code",
   "execution_count": 6,
   "metadata": {},
   "outputs": [
    {
     "data": {
      "text/plain": [
       "0"
      ]
     },
     "execution_count": 6,
     "metadata": {},
     "output_type": "execute_result"
    }
   ],
   "source": [
    "vmem1 = RawCam(path='/mnt/recordings/SimulationResults/%s' % folder_name, cam_type='numpy', image_width=300, image_height=300, frame_start=0, frame_end=-1)\n",
    "vmem_temp = VmemMap(vmem1)\n",
    "vmem1.cmap = vmem_temp.cmap\n",
    "vmem1.saveImage('/mnt/recordings/AnalysisResult/Seno/simulation/Mahajan/%s/%s' % (output_name, folder_name))\n",
    "subprocess.call('ffmpeg -r 30 -y -i \"/mnt/recordings/AnalysisResult/Seno/simulation/Mahajan/{0}/{1}/%06d.png\" -c:v libx264 -pix_fmt yuv420p -qscale 0 \"/mnt/recordings/AnalysisResult/Seno/simulation/Mahajan/{0}/{1}/movie.mp4\"'.format(output_name, folder_name), shell=True)"
   ]
  },
  {
   "cell_type": "markdown",
   "metadata": {
    "collapsed": true
   },
   "source": [
    "# 位相分散解析"
   ]
  },
  {
   "cell_type": "code",
   "execution_count": 29,
   "metadata": {},
   "outputs": [
    {
     "data": {
      "text/plain": [
       "0"
      ]
     },
     "execution_count": 29,
     "metadata": {},
     "output_type": "execute_result"
    }
   ],
   "source": [
    "output_name = '20170810'\n",
    "folder_name = '20170810-3'\n",
    "vmem = RawCam(path='/mnt/recordings/SimulationResults/%s' % folder_name, cam_type='numpy', image_width=300, image_height=300, frame_start=0, frame_end=-1)\n",
    "vmem_temp = VmemMap(vmem)\n",
    "vmem.cmap = vmem_temp.cmap\n",
    "vmem.saveImage('/mnt/recordings/AnalysisResult/Seno/simulation/Mahajan/%s/%s/vmem' % (output_name, folder_name))\n",
    "pmap = PhaseMap(vmem, shrink=2)\n",
    "pmap.saveImage('/mnt/recordings/AnalysisResult/Seno/simulation/Mahajan/%s/%s/pmap' % (output_name, folder_name))\n",
    "pvmap = PhaseVarianceMap(pmap, size=3)\n",
    "pvmap.saveImage('/mnt/recordings/AnalysisResult/Seno/simulation/Mahajan/%s/%s/pvmap' % (output_name, folder_name))\n",
    "\n",
    "subprocess.call('ffmpeg -r 30 -y -i \"/mnt/recordings/AnalysisResult/Seno/simulation/Mahajan/{0}/{1}/vmem/%06d.png\" -c:v libx264 -pix_fmt yuv420p -qscale 0 \"/mnt/recordings/AnalysisResult/Seno/simulation/Mahajan/{0}/{1}/vmem/vmem.mp4\"'.format(output_name, folder_name), shell=True)\n",
    "subprocess.call('ffmpeg -r 30 -y -i \"/mnt/recordings/AnalysisResult/Seno/simulation/Mahajan/{0}/{1}/pmap/%06d.png\" -c:v libx264 -pix_fmt yuv420p -qscale 0 \"/mnt/recordings/AnalysisResult/Seno/simulation/Mahajan/{0}/{1}/pmap/pmap.mp4\"'.format(output_name, folder_name), shell=True)\n",
    "subprocess.call('ffmpeg -r 30 -y -i \"/mnt/recordings/AnalysisResult/Seno/simulation/Mahajan/{0}/{1}/pvmap/%06d.png\" -c:v libx264 -pix_fmt yuv420p -qscale 0 \"/mnt/recordings/AnalysisResult/Seno/simulation/Mahajan/{0}/{1}/pvmap/pvmap.mp4\"'.format(output_name, folder_name), shell=True)"
   ]
  },
  {
   "cell_type": "markdown",
   "metadata": {},
   "source": [
    "# hjmap & Inamap & pvmap"
   ]
  },
  {
   "cell_type": "code",
   "execution_count": 30,
   "metadata": {
    "collapsed": true
   },
   "outputs": [],
   "source": [
    "hj_array = np.zeros((401, 300, 300))\n",
    "m_array = np.zeros((401, 300, 300))\n",
    "Ina = np.zeros((401, 300, 300))"
   ]
  },
  {
   "cell_type": "code",
   "execution_count": 31,
   "metadata": {},
   "outputs": [],
   "source": [
    "for i in range(400):\n",
    "    num = '{0:04d}'.format(i)\n",
    "    a = np.load('/mnt/recordings/SimulationResults/%s/cell_%s/%s' % (folder_name, num, 'h.npy'))\n",
    "    b = np.load('/mnt/recordings/SimulationResults/%s/cell_%s/%s' % (folder_name, num, 'j.npy'))\n",
    "    hj_array[i, :, :] = a*b\n",
    "    m_array[i, :, :] = np.load('/mnt/recordings/SimulationResults/%s/cell_%s/%s' % (folder_name, num, 'm.npy'))\n",
    "    Ina[i, :, :] = np.load('/mnt/recordings/SimulationResults/%s/cell_%s/%s' % (folder_name, num, 'xina.npy'))"
   ]
  },
  {
   "cell_type": "code",
   "execution_count": null,
   "metadata": {},
   "outputs": [],
   "source": [
    "width = 10\n",
    "thres = 0.05\n",
    "\n",
    "save_dir = '/mnt/recordings/AnalysisResult/Seno/simulation/Mahajan/20170810/%s/contour' % folder_name\n",
    "\n",
    "if not os.path.exists(save_dir):\n",
    "    os.makedirs(save_dir)\n",
    "\n",
    "x = np.arange(300)\n",
    "y = np.arange(300)\n",
    "X, Y = np.meshgrid(x, y)\n",
    "\n",
    "\n",
    "for i in range(600):\n",
    "    if i < width+1:\n",
    "        continue\n",
    "    \n",
    "    plt.clf()\n",
    "    \n",
    "    im_out = np.zeros([300, 300, 3], dtype=np.uint8)\n",
    "    \n",
    "    im_out[:, :, 0] = (np.sum((Ina[i-width:i, :, :] < -1), axis=0) > 0) * 255\n",
    "    \n",
    "    ans = np.zeros((1, 300, 300))\n",
    "    for j in range(width):\n",
    "        ans += ((hj_array[i+j-1-width:i+j-width, :, :] < thres) * (hj_array[i+j-width:i+j+1-width, :, :] >= thres))\n",
    "        \n",
    "    im_out[:, :, 1] = (ans[0, :, :] > 0) * 255\n",
    "    im_out[:, :, 2] = (ans[0, :, :] > 0) * 255\n",
    "\n",
    "    \n",
    "    #plt.imsave(os.path.join(save_dir, 'wfwt_{0:0>6}.png'.format(i-width-1)), im_out)    \n",
    "    plt.subplot(1,2,1)\n",
    "    plt.imshow(im_out)\n",
    "    \n",
    "    \n",
    "    Z = hj_array[i,:,:] \n",
    "    Z = Z[::-1, :]\n",
    "    plt.subplot(1,2,2)\n",
    "    plt.contour(X, Y, Z)\n",
    "    \n",
    "    plt.gca().set_aspect('equal')    \n",
    "    plt.savefig(os.path.join(save_dir, '{0:0>6}.png'.format(i-width-1)))"
   ]
  },
  {
   "cell_type": "code",
   "execution_count": null,
   "metadata": {},
   "outputs": [],
   "source": [
    "subprocess.call('ffmpeg -r 30 -y -i \"/mnt/recordings/AnalysisResult/Seno/simulation/Mahajan/{0}/{1}/contour/%06d.png\" -c:v libx264 -pix_fmt yuv420p -qscale 0 \"/mnt/recordings/AnalysisResult/Seno/simulation/Mahajan/{0}/{1}/contour/contour.mp4\"'.format(output_name, folder_name), shell=True)"
   ]
  },
  {
   "cell_type": "code",
   "execution_count": null,
   "metadata": {
    "collapsed": true
   },
   "outputs": [],
   "source": []
  }
 ],
 "metadata": {
  "kernelspec": {
   "display_name": "Python 2",
   "language": "python",
   "name": "python2"
  },
  "language_info": {
   "codemirror_mode": {
    "name": "ipython",
    "version": 2
   },
   "file_extension": ".py",
   "mimetype": "text/x-python",
   "name": "python",
   "nbconvert_exporter": "python",
   "pygments_lexer": "ipython2",
   "version": "2.7.13"
  }
 },
 "nbformat": 4,
 "nbformat_minor": 2
}
