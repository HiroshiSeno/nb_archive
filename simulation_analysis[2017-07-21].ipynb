{
 "cells": [
  {
   "cell_type": "code",
   "execution_count": 3,
   "metadata": {
    "collapsed": true
   },
   "outputs": [],
   "source": [
    "import numpy as np\n",
    "import matplotlib.pyplot as plt\n",
    "import os\n",
    "import json\n",
    "import subprocess\n",
    "import cv2\n",
    "%matplotlib inline"
   ]
  },
  {
   "cell_type": "code",
   "execution_count": 4,
   "metadata": {
    "collapsed": true
   },
   "outputs": [],
   "source": [
    "from opmap.RawCam import RawCam\n",
    "from opmap.VmemMap import VmemMap\n",
    "from opmap.PhaseMap import PhaseMap\n",
    "from opmap.PhaseVarianceMap import PhaseVarianceMap\n",
    "from opmap.util import makeMovie"
   ]
  },
  {
   "cell_type": "code",
   "execution_count": 4,
   "metadata": {
    "collapsed": true
   },
   "outputs": [],
   "source": [
    "output_name = '20170720'\n",
    "folder_name = '20170711-6'"
   ]
  },
  {
   "cell_type": "markdown",
   "metadata": {},
   "source": [
    "# vmem"
   ]
  },
  {
   "cell_type": "code",
   "execution_count": 40,
   "metadata": {
    "collapsed": true
   },
   "outputs": [],
   "source": [
    "vmem1 = RawCam(path='/mnt/recordings/SimulationResults/20170711-6', cam_type='numpy', image_width=200, image_height=200, frame_start=0, frame_end=-1)\n",
    "#vmem2 = RawCam(path='/mnt/recordings/SimulationResults/20170713-2/', cam_type='numpy', image_width=200, image_height=200, frame_start=0, frame_end=-1)\n",
    "#vmem3 = RawCam(path='/mnt/recordings/SimulationResults/20170713-3', cam_type='numpy', image_width=200, image_height=200, frame_start=0, frame_end=-1)\n",
    "vmem4 = RawCam(path='/mnt/recordings/SimulationResults/20170714-4/', cam_type='numpy', image_width=200, image_height=200, frame_start=0, frame_end=-1)"
   ]
  },
  {
   "cell_type": "code",
   "execution_count": 41,
   "metadata": {
    "collapsed": true
   },
   "outputs": [],
   "source": [
    "#vmem1.data = np.vstack((vmem1.data, vmem2.data[1:, :, :]))\n",
    "#vmem1.data = np.vstack((vmem1.data, vmem3.data[1:, :, :]))\n",
    "vmem1.data = np.vstack((vmem1.data, vmem4.data[1:, :, :]))"
   ]
  },
  {
   "cell_type": "code",
   "execution_count": 42,
   "metadata": {},
   "outputs": [
    {
     "data": {
      "text/plain": [
       "(1001, 200, 200)"
      ]
     },
     "execution_count": 42,
     "metadata": {},
     "output_type": "execute_result"
    }
   ],
   "source": [
    "vmem1.data.shape"
   ]
  },
  {
   "cell_type": "code",
   "execution_count": 43,
   "metadata": {
    "collapsed": true
   },
   "outputs": [],
   "source": [
    "vmem_temp = VmemMap(vmem1)\n",
    "vmem1.cmap = vmem_temp.cmap"
   ]
  },
  {
   "cell_type": "markdown",
   "metadata": {},
   "source": [
    "# colorbar"
   ]
  },
  {
   "cell_type": "markdown",
   "metadata": {},
   "source": [
    "## vmem"
   ]
  },
  {
   "cell_type": "code",
   "execution_count": 44,
   "metadata": {
    "collapsed": true
   },
   "outputs": [],
   "source": [
    "plt.imshow(vmem1.data[0, :, :], vmin=np.min(vmem1.data), vmax=np.max(vmem1.data), cmap=vmem1.cmap)\n",
    "plt.colorbar()\n",
    "os.makedirs('/mnt/recordings/AnalysisResult/Seno/simulation/Mahajan/20170720/20170711-6')\n",
    "plt.savefig('/mnt/recordings/AnalysisResult/Seno/simulation/Mahajan/20170720/20170711-6/vmem.png', dpi=1000)\n",
    "plt.close()"
   ]
  },
  {
   "cell_type": "markdown",
   "metadata": {},
   "source": [
    "## Ina"
   ]
  },
  {
   "cell_type": "code",
   "execution_count": 6,
   "metadata": {
    "collapsed": true
   },
   "outputs": [],
   "source": [
    "current = np.zeros((1001, 200, 200))\n",
    "current_name = 'xina.npy'\n",
    "for i in range(400):\n",
    "    num = '{0:04d}'.format(i)\n",
    "    current[i, :, :] = np.load('/mnt/recordings/SimulationResults/20170711-4/cell_%s/%s' % (num, current_name))\n",
    "for i in range(200):\n",
    "    num = '{0:04d}'.format(i)\n",
    "    current[i+400, :, :] = np.load('/mnt/recordings/SimulationResults/20170713-2/cell_%s/%s' % (num, current_name))\n",
    "for i in range(400):\n",
    "    num = '{0:04d}'.format(i)\n",
    "    current[i+600, :, :] = np.load('/mnt/recordings/SimulationResults/20170714-2/cell_%s/%s' % (num, current_name))"
   ]
  },
  {
   "cell_type": "code",
   "execution_count": 7,
   "metadata": {
    "collapsed": true
   },
   "outputs": [],
   "source": [
    "plt.imshow(current[0, :, :], vmin=np.min(current), vmax=np.max(current), cmap='jet')\n",
    "plt.colorbar()\n",
    "plt.savefig('/mnt/recordings/AnalysisResult/Seno/simulation/Mahajan/20170720/ina.png', dpi=1000)\n",
    "plt.close()"
   ]
  },
  {
   "cell_type": "markdown",
   "metadata": {},
   "source": [
    "# activation params in Ina"
   ]
  },
  {
   "cell_type": "code",
   "execution_count": 12,
   "metadata": {
    "collapsed": true
   },
   "outputs": [],
   "source": [
    "m = np.zeros(5400)\n",
    "h = np.zeros(5400)\n",
    "j = np.zeros(5400)\n",
    "for i in range(5400):\n",
    "    num = '{0:05d}'.format(i+1)\n",
    "    m[i] = np.load('/mnt/recordings/SimulationResults/20170624-1/%s/m.npy'%num)\n",
    "    h[i] = np.load('/mnt/recordings/SimulationResults/20170624-1/%s/h.npy'%num)\n",
    "    j[i] = np.load('/mnt/recordings/SimulationResults/20170624-1/%s/j.npy'%num)"
   ]
  },
  {
   "cell_type": "code",
   "execution_count": 27,
   "metadata": {
    "collapsed": true
   },
   "outputs": [],
   "source": [
    "plt.plot(m)\n",
    "plt.xlim([5220, 5400])\n",
    "plt.ylim([0, 1])\n",
    "plt.xticks([5220, 5240, 5260, 5280, 5300, 5320, 5340, 5360, 5380, 5400], [0, 20, 40, 60, 80, 100, 120, 140, 160, 180])\n",
    "plt.xlabel('Time (ms)', size=15)\n",
    "plt.ylabel('Open Probability', size=15)\n",
    "plt.title('Activation Parameter: m', size=20)\n",
    "plt.savefig('/mnt/recordings/AnalysisResult/Seno/simulation/Mahajan/20170720/m.png', dpi=500)\n",
    "plt.close()"
   ]
  },
  {
   "cell_type": "code",
   "execution_count": 28,
   "metadata": {
    "collapsed": true
   },
   "outputs": [],
   "source": [
    "plt.plot(h)\n",
    "plt.xlim([5220, 5400])\n",
    "plt.ylim([0, 1])\n",
    "plt.xticks([5220, 5240, 5260, 5280, 5300, 5320, 5340, 5360, 5380, 5400], [0, 20, 40, 60, 80, 100, 120, 140, 160, 180])\n",
    "plt.xlabel('Time (ms)', size=15)\n",
    "plt.ylabel('Open Probability', size=15)\n",
    "plt.title('Inactivation Parameter: h', size=20)\n",
    "plt.savefig('/mnt/recordings/AnalysisResult/Seno/simulation/Mahajan/20170720/h.png', dpi=500)\n",
    "plt.close()"
   ]
  },
  {
   "cell_type": "code",
   "execution_count": 29,
   "metadata": {
    "collapsed": true
   },
   "outputs": [],
   "source": [
    "plt.plot(j)\n",
    "plt.xlim([5220, 5400])\n",
    "plt.ylim([0, 1])\n",
    "plt.xticks([5220, 5240, 5260, 5280, 5300, 5320, 5340, 5360, 5380, 5400], [0, 20, 40, 60, 80, 100, 120, 140, 160, 180])\n",
    "plt.xlabel('Time (ms)', size=15)\n",
    "plt.ylabel('Open Probability', size=15)\n",
    "plt.title('Inactivation Parameter: j', size=20)\n",
    "plt.savefig('/mnt/recordings/AnalysisResult/Seno/simulation/Mahajan/20170720/j.png', dpi=500)\n",
    "plt.close()"
   ]
  },
  {
   "cell_type": "markdown",
   "metadata": {
    "collapsed": true
   },
   "source": [
    "# hj map & Ina map & pvmap"
   ]
  },
  {
   "cell_type": "code",
   "execution_count": 5,
   "metadata": {
    "collapsed": true
   },
   "outputs": [],
   "source": [
    "hj_array = np.zeros((1001, 200, 200))\n",
    "m_array = np.zeros((1001, 200, 200))\n",
    "Ina = np.zeros((1001, 200, 200))"
   ]
  },
  {
   "cell_type": "code",
   "execution_count": 6,
   "metadata": {
    "collapsed": true
   },
   "outputs": [],
   "source": [
    "for i in range(400):\n",
    "    num = '{0:04d}'.format(i)\n",
    "    a = np.load('/mnt/recordings/SimulationResults/20170711-4/cell_%s/%s' % (num, 'h.npy'))\n",
    "    b = np.load('/mnt/recordings/SimulationResults/20170711-4/cell_%s/%s' % (num, 'j.npy'))\n",
    "    hj_array[i, :, :] = a*b\n",
    "    m_array[i, :, :] = np.load('/mnt/recordings/SimulationResults/20170711-4/cell_%s/%s' % (num, 'm.npy'))\n",
    "    Ina[i, :, :] = np.load('/mnt/recordings/SimulationResults/20170711-4/cell_%s/%s' % (num, 'xina.npy'))\n",
    "for i in range(200):\n",
    "    num = '{0:04d}'.format(i)\n",
    "    a = np.load('/mnt/recordings/SimulationResults/20170713-2/cell_%s/%s' % (num, 'h.npy'))\n",
    "    b = np.load('/mnt/recordings/SimulationResults/20170713-2/cell_%s/%s' % (num, 'j.npy'))\n",
    "    hj_array[i+400, :, :] = a*b\n",
    "    m_array[i+400, :, :] = np.load('/mnt/recordings/SimulationResults/20170713-2/cell_%s/%s' % (num, 'm.npy'))\n",
    "    Ina[i+400, :, :] = np.load('/mnt/recordings/SimulationResults/20170713-2/cell_%s/%s' % (num, 'xina.npy'))\n",
    "for i in range(400):\n",
    "    num = '{0:04d}'.format(i)\n",
    "    a = np.load('/mnt/recordings/SimulationResults/20170714-2/cell_%s/%s' % (num, 'h.npy'))\n",
    "    b = np.load('/mnt/recordings/SimulationResults/20170714-2/cell_%s/%s' % (num, 'j.npy'))\n",
    "    hj_array[i+600, :, :] = a*b\n",
    "    m_array[i+600, :, :] = np.load('/mnt/recordings/SimulationResults/20170714-2/cell_%s/%s' % (num, 'm.npy'))\n",
    "    Ina[i+600, :, :] = np.load('/mnt/recordings/SimulationResults/20170714-2/cell_%s/%s' % (num, 'xina.npy'))"
   ]
  },
  {
   "cell_type": "code",
   "execution_count": 5,
   "metadata": {
    "collapsed": true
   },
   "outputs": [],
   "source": [
    "vmem1 = RawCam(path='/mnt/recordings/SimulationResults/20170711-4', cam_type='numpy', image_width=200, image_height=200, frame_start=0, frame_end=-1)\n",
    "vmem2 = RawCam(path='/mnt/recordings/SimulationResults/20170713-2/', cam_type='numpy', image_width=200, image_height=200, frame_start=0, frame_end=-1)\n",
    "vmem3 = RawCam(path='/mnt/recordings/SimulationResults/20170714-2', cam_type='numpy', image_width=200, image_height=200, frame_start=0, frame_end=-1)\n",
    "\n",
    "vmem1.data = np.vstack((vmem1.data, vmem2.data[1:, :, :]))\n",
    "vmem1.data = np.vstack((vmem1.data, vmem3.data[1:, :, :]))\n",
    "vmem_temp = VmemMap(vmem1)\n",
    "vmem1.cmap = vmem_temp.cmap\n",
    "\n",
    "pmap = PhaseMap(vmem1, shrink=1)\n",
    "pvmap = PhaseVarianceMap(pmap, size=3)"
   ]
  },
  {
   "cell_type": "code",
   "execution_count": 21,
   "metadata": {
    "collapsed": true
   },
   "outputs": [],
   "source": [
    "plt.imshow(pvmap.data[100, :, :], vmin=np.min(pvmap.data), vmax=np.max(pvmap.data), cmap=pvmap.cmap)\n",
    "plt.colorbar()\n",
    "plt.savefig('/mnt/recordings/AnalysisResult/Seno/simulation/Mahajan/20170721/pvmap.png', dpi=1000)\n",
    "plt.close()"
   ]
  },
  {
   "cell_type": "code",
   "execution_count": 24,
   "metadata": {},
   "outputs": [
    {
     "data": {
      "image/png": "[encoded data removed]",
      "text/plain": [
       "<matplotlib.figure.Figure at 0x7f4b29010ad0>"
      ]
     },
     "metadata": {},
     "output_type": "display_data"
    }
   ],
   "source": [
    "#100ms時\n",
    "im_out = np.zeros([200, 200, 3], dtype=np.uint8)\n",
    "im_out[:, :, 0] = pvmap.data[100, :, :]*255 + (1-pvmap.data[100, :, :]) * (Ina[100, :, :]<-1)*255\n",
    "#im_out[:, :, 0] = pvmap.data[100, :, :]*255 + (1-pvmap.data[100, :, :]) * (m_array[100, :, :]>0.90)*255\n",
    "im_out[:, :, 2] = pvmap.data[100, :, :]*255 + (1-pvmap.data[100, :, :]) * (1-hj_array[100, :, :])*255\n",
    "im_out[:, :, 1] = pvmap.data[100, :, :]*255\n",
    "plt.imshow(im_out)\n",
    "plt.imsave('/mnt/recordings/AnalysisResult/Seno/simulation/Mahajan/20170721/sample2.png', im_out)"
   ]
  },
  {
   "cell_type": "code",
   "execution_count": 60,
   "metadata": {
    "collapsed": true
   },
   "outputs": [],
   "source": [
    "if not os.path.exists('/mnt/recordings/AnalysisResult/Seno/simulation/Mahajan/20170721/integrate'):\n",
    "    os.makedirs('/mnt/recordings/AnalysisResult/Seno/simulation/Mahajan/20170721/integrate')\n",
    "\n",
    "for i in range(900):\n",
    "    num = num = '{0:06d}'.format(i)\n",
    "    im_out = np.zeros([200, 200, 3], dtype=np.uint8)\n",
    "    im_out[:, :, 0] = pvmap.data[i, :, :]*255 + (1-pvmap.data[i, :, :]) * (Ina[i, :, :]<-1)*255\n",
    "    im_out[:, :, 1] = pvmap.data[i, :, :]*255\n",
    "    im_out[:, :, 2] = pvmap.data[i, :, :]*255 + (1-pvmap.data[i, :, :]) * (1-hj_array[i, :, :])*255\n",
    "    plt.imsave('/mnt/recordings/AnalysisResult/Seno/simulation/Mahajan/20170721/integrate/%s.png' % num, im_out)"
   ]
  },
  {
   "cell_type": "code",
   "execution_count": 26,
   "metadata": {},
   "outputs": [
    {
     "data": {
      "text/plain": [
       "0"
      ]
     },
     "execution_count": 26,
     "metadata": {},
     "output_type": "execute_result"
    }
   ],
   "source": [
    "subprocess.call('ffmpeg -r 15 -y -i \"/mnt/recordings/AnalysisResult/Seno/simulation/Mahajan/20170721/integrate/%06d.png\" -c:v libx264 -pix_fmt yuv420p -qscale 0 \"/mnt/recordings/AnalysisResult/Seno/simulation/Mahajan/20170721/integrate/movie.mp4\"', shell=True)"
   ]
  },
  {
   "cell_type": "code",
   "execution_count": 9,
   "metadata": {},
   "outputs": [
    {
     "data": {
      "text/plain": [
       "0"
      ]
     },
     "execution_count": 9,
     "metadata": {},
     "output_type": "execute_result"
    }
   ],
   "source": [
    "if not os.path.exists('/mnt/recordings/AnalysisResult/Seno/simulation/Mahajan/20170722/threshold'):\n",
    "    os.makedirs('/mnt/recordings/AnalysisResult/Seno/simulation/Mahajan/20170722/threshold')\n",
    "\n",
    "for i in range(900):\n",
    "    num = '{0:06d}'.format(i)\n",
    "    im_out = np.zeros([200, 200, 3], dtype=np.uint8)\n",
    "    threshold = np.ones((200, 200)) * (hj_array[i, :, :] > 0.2) * (hj_array[i, :, :] < 0.4)\n",
    "    im_out[:, :, 0] = (Ina[i, :, :]<-1)*255\n",
    "    im_out[:, :, 1] = threshold*(1-hj_array[i, :, :])*255\n",
    "    im_out[:, :, 2] = (1-hj_array[i, :, :])*255\n",
    "    plt.imsave('/mnt/recordings/AnalysisResult/Seno/simulation/Mahajan/20170722/threshold/%s.png' % num, im_out)\n",
    "subprocess.call('ffmpeg -r 30 -y -i \"/mnt/recordings/AnalysisResult/Seno/simulation/Mahajan/20170722/threshold/%06d.png\" -c:v libx264 -pix_fmt yuv420p -qscale 0 \"/mnt/recordings/AnalysisResult/Seno/simulation/Mahajan/20170722/threshold/movie.mp4\"', shell=True)"
   ]
  },
  {
   "cell_type": "code",
   "execution_count": 13,
   "metadata": {},
   "outputs": [
    {
     "data": {
      "text/plain": [
       "0"
      ]
     },
     "execution_count": 13,
     "metadata": {},
     "output_type": "execute_result"
    }
   ],
   "source": [
    "if not os.path.exists('/mnt/recordings/AnalysisResult/Seno/simulation/Mahajan/20170723/threshold'):\n",
    "    os.makedirs('/mnt/recordings/AnalysisResult/Seno/simulation/Mahajan/20170723/threshold')\n",
    "\n",
    "for i in range(900):\n",
    "    num = '{0:06d}'.format(i)\n",
    "    im_out = np.zeros([200, 200, 3], dtype=np.uint8)\n",
    "    if i != 0:\n",
    "        slope = (hj_array[i, :, :]-hj_array[i-1, :, :]).astype(np.bool)\n",
    "    else:\n",
    "        slope = 1\n",
    "    threshold = np.ones((200, 200)) * (hj_array[i, :, :] > 0.2) * (hj_array[i, :, :] < 0.4) * slope\n",
    "    im_out[:, :, 0] = (Ina[i, :, :]<-1)*255\n",
    "    im_out[:, :, 1] = threshold*(1-hj_array[i, :, :])*255\n",
    "    im_out[:, :, 2] = (1-hj_array[i, :, :])*255\n",
    "    plt.imsave('/mnt/recordings/AnalysisResult/Seno/simulation/Mahajan/20170723/threshold/%s.png' % num, im_out)\n",
    "subprocess.call('ffmpeg -r 30 -y -i \"/mnt/recordings/AnalysisResult/Seno/simulation/Mahajan/20170723/threshold/%06d.png\" -c:v libx264 -pix_fmt yuv420p -qscale 0 \"/mnt/recordings/AnalysisResult/Seno/simulation/Mahajan/20170723/threshold/movie.mp4\"', shell=True)"
   ]
  },
  {
   "cell_type": "markdown",
   "metadata": {},
   "source": [
    "# zoom up"
   ]
  },
  {
   "cell_type": "code",
   "execution_count": 87,
   "metadata": {
    "collapsed": true
   },
   "outputs": [],
   "source": [
    "numbers = [370, 371, 372, 373, 374, 375, 376, 377, 378, 379, 380, 381, 382, 383, 384, 385]\n",
    "for number in numbers:\n",
    "    num = '{0:06d}'.format(number)\n",
    "    im_out = np.zeros([200, 200, 3], dtype=np.uint8)\n",
    "    threshold = np.ones((200, 200)) * (hj_array[number, :, :] > 0.2) * (hj_array[number, :, :] < 0.4)\n",
    "    im_out[:, :, 0] = (Ina[number, :, :]<-1)*255\n",
    "    im_out[:, :, 1] = threshold*(1-hj_array[number, :, :])*255\n",
    "    im_out[:, :, 2] = (1-hj_array[number, :, :])*255\n",
    "    plt.imsave('/mnt/recordings/AnalysisResult/Seno/simulation/Mahajan/20170723/threshold/%s.png' % num, im_out[55:90, 145:180, :])"
   ]
  },
  {
   "cell_type": "code",
   "execution_count": 88,
   "metadata": {
    "collapsed": true
   },
   "outputs": [],
   "source": [
    "a = np.ones((200, 200))\n",
    "a[55:90, 145:180] = 0"
   ]
  },
  {
   "cell_type": "code",
   "execution_count": 90,
   "metadata": {},
   "outputs": [
    {
     "data": {
      "image/png": "[encoded data removed]",
      "text/plain": [
       "<matplotlib.figure.Figure at 0x7f4b28808810>"
      ]
     },
     "metadata": {},
     "output_type": "display_data"
    }
   ],
   "source": [
    "plt.imshow(a)\n",
    "plt.imsave('/mnt/recordings/AnalysisResult/Seno/simulation/Mahajan/20170723/threshold/ROI.png', a)"
   ]
  },
  {
   "cell_type": "code",
   "execution_count": 4,
   "metadata": {
    "collapsed": true
   },
   "outputs": [],
   "source": [
    "h = np.zeros((1001, 200, 200))\n",
    "j = np.zeros((1001, 200, 200))\n",
    "for i in range(400):\n",
    "    num = '{0:04d}'.format(i)\n",
    "    h[i, :, :] = np.load('/mnt/recordings/SimulationResults/20170711-4/cell_%s/%s' % (num, 'h.npy'))\n",
    "    j[i, :, :] = np.load('/mnt/recordings/SimulationResults/20170711-4/cell_%s/%s' % (num, 'j.npy'))\n",
    "for i in range(200):\n",
    "    num = '{0:04d}'.format(i)\n",
    "    h[i+400, :, :] = np.load('/mnt/recordings/SimulationResults/20170713-2/cell_%s/%s' % (num, 'h.npy'))\n",
    "    j[i+400, :, :] = np.load('/mnt/recordings/SimulationResults/20170713-2/cell_%s/%s' % (num, 'j.npy'))\n",
    "for i in range(400):\n",
    "    num = '{0:04d}'.format(i)\n",
    "    h[i+600, :, :] = np.load('/mnt/recordings/SimulationResults/20170714-2/cell_%s/%s' % (num, 'h.npy'))\n",
    "    j[i+600, :, :] = np.load('/mnt/recordings/SimulationResults/20170714-2/cell_%s/%s' % (num, 'j.npy'))"
   ]
  },
  {
   "cell_type": "code",
   "execution_count": 10,
   "metadata": {},
   "outputs": [
    {
     "data": {
      "text/plain": [
       "(300, 400)"
      ]
     },
     "execution_count": 10,
     "metadata": {},
     "output_type": "execute_result"
    },
    {
     "data": {
      "image/png": "[encoded data removed]",
      "text/plain": [
       "<matplotlib.figure.Figure at 0x7f7802742f50>"
      ]
     },
     "metadata": {},
     "output_type": "display_data"
    }
   ],
   "source": [
    "plt.plot(h[:, 75, 160])\n",
    "plt.plot(j[:, 75, 160])\n",
    "plt.plot(h[:, 75, 160]*j[:, 75, 160])\n",
    "plt.xlim([300, 400])"
   ]
  },
  {
   "cell_type": "code",
   "execution_count": null,
   "metadata": {
    "collapsed": true
   },
   "outputs": [],
   "source": []
  }
 ],
 "metadata": {
  "kernelspec": {
   "display_name": "Python 2",
   "language": "python",
   "name": "python2"
  },
  "language_info": {
   "codemirror_mode": {
    "name": "ipython",
    "version": 2
   },
   "file_extension": ".py",
   "mimetype": "text/x-python",
   "name": "python",
   "nbconvert_exporter": "python",
   "pygments_lexer": "ipython2",
   "version": "2.7.13"
  }
 },
 "nbformat": 4,
 "nbformat_minor": 2
}
