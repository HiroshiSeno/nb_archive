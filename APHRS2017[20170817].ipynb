{
 "cells": [
  {
   "cell_type": "code",
   "execution_count": 1,
   "metadata": {
    "collapsed": true
   },
   "outputs": [],
   "source": [
    "import opmap\n",
    "import os\n",
    "import copy\n",
    "import numpy as np\n",
    "from scipy import stats\n",
    "import matplotlib as mpl\n",
    "mpl.use('Agg')\n",
    "import matplotlib.pyplot as plt\n",
    "import numpy as np\n",
    "from opmap.RawCam import RawCam\n",
    "from opmap.VmemMap import VmemMap\n",
    "from opmap.PhaseMap import PhaseMap\n",
    "from opmap.PhaseVarianceMap import PhaseVarianceMap\n",
    "from opmap.util import makeMovie\n",
    "\n",
    "%matplotlib inline"
   ]
  },
  {
   "cell_type": "code",
   "execution_count": 2,
   "metadata": {
    "collapsed": true
   },
   "outputs": [],
   "source": [
    "dirs = ['030719NIF/NIF S023RM.1@@', '030722NIF/NIF1 S014RM.1@@',\n",
    "        '030722NIF/NIF2 S017RM.1@@', '030722NIF/NIF3 S020RM.1@',\n",
    "        '030722NIF/NIF4 S021RM.1@', '030811NIF/S011RM.1@']"
   ]
  },
  {
   "cell_type": "code",
   "execution_count": 3,
   "metadata": {
    "collapsed": true
   },
   "outputs": [],
   "source": [
    "parents_path = '/mnt/recordings/ExperimentData'\n",
    "passed_list = []\n",
    "nonpassed_list = []"
   ]
  },
  {
   "cell_type": "code",
   "execution_count": 4,
   "metadata": {
    "collapsed": true
   },
   "outputs": [],
   "source": [
    "def count_pixcel(data, roi, list):\n",
    "    for i in range(128):\n",
    "        for j in range(128):\n",
    "            if roi[i, j] == 1 and data[i, j] != 0:\n",
    "                list.append(data[i, j])\n",
    "    return list\n",
    "\n",
    "def plot_bar(nonpassed_value, passed_value):\n",
    "    passed_y = np.average(passed_value)\n",
    "    nonpassed_y = np.average(nonpassed_value)\n",
    "    passed_e = np.sqrt(np.var(passed_value))\n",
    "    nonpassed_e = np.sqrt(np.var(nonpassed_value))\n",
    "    res = stats.ttest_ind(np.array(passed_value), np.array(nonpassed_value), equal_var = False)\n",
    "    print(\"t value\")\n",
    "    print(res)\n",
    "    plt.bar(1, nonpassed_y, align='center', color='royalblue', yerr=nonpassed_e, ecolor='black')\n",
    "    plt.bar(2, passed_y, align='center', color='royalblue', yerr=passed_e, ecolor='black')\n",
    "    plt.xticks([1,2], [u'非旋回通過領域', u'旋回通過領域'], fontproperties=prop, size=20)\n",
    "    plt.ylabel(u'累積位相分散の平均値', size=20, fontproperties=prop)\n",
    "    plt.yticks(np.arange(0, 0.11, 0.01))"
   ]
  },
  {
   "cell_type": "code",
   "execution_count": 5,
   "metadata": {},
   "outputs": [
    {
     "name": "stdout",
     "output_type": "stream",
     "text": [
      "030719NIF/NIF S023RM.1@@\n"
     ]
    },
    {
     "ename": "AssertionError",
     "evalue": "",
     "output_type": "error",
     "traceback": [
      "\u001b[0;31m\u001b[0m",
      "\u001b[0;31mAssertionError\u001b[0mTraceback (most recent call last)",
      "\u001b[0;32m<ipython-input-5-69f3b3dba6dd>\u001b[0m in \u001b[0;36m<module>\u001b[0;34m()\u001b[0m\n\u001b[1;32m      6\u001b[0m     \u001b[0mresult_path\u001b[0m \u001b[0;34m=\u001b[0m \u001b[0mos\u001b[0m\u001b[0;34m.\u001b[0m\u001b[0mpath\u001b[0m\u001b[0;34m.\u001b[0m\u001b[0mjoin\u001b[0m\u001b[0;34m(\u001b[0m\u001b[0mparents_path\u001b[0m\u001b[0;34m,\u001b[0m \u001b[0mdir\u001b[0m\u001b[0;34m)\u001b[0m\u001b[0;34m\u001b[0m\u001b[0m\n\u001b[1;32m      7\u001b[0m \u001b[0;34m\u001b[0m\u001b[0m\n\u001b[0;32m----> 8\u001b[0;31m     \u001b[0mrawcam\u001b[0m \u001b[0;34m=\u001b[0m \u001b[0mRawCam\u001b[0m\u001b[0;34m(\u001b[0m\u001b[0mpath\u001b[0m\u001b[0;34m=\u001b[0m\u001b[0mresult_path\u001b[0m\u001b[0;34m,\u001b[0m \u001b[0mcam_type\u001b[0m\u001b[0;34m=\u001b[0m\u001b[0;34m'max'\u001b[0m\u001b[0;34m,\u001b[0m \u001b[0mimage_height\u001b[0m\u001b[0;34m=\u001b[0m\u001b[0;36m256\u001b[0m\u001b[0;34m,\u001b[0m \u001b[0mimage_width\u001b[0m\u001b[0;34m=\u001b[0m\u001b[0;36m256\u001b[0m\u001b[0;34m,\u001b[0m \u001b[0mframe_start\u001b[0m\u001b[0;34m=\u001b[0m\u001b[0;36m200\u001b[0m\u001b[0;34m,\u001b[0m \u001b[0mframe_end\u001b[0m\u001b[0;34m=\u001b[0m\u001b[0;36m1300\u001b[0m\u001b[0;34m)\u001b[0m\u001b[0;34m\u001b[0m\u001b[0m\n\u001b[0m\u001b[1;32m      9\u001b[0m     \u001b[0mrawcam\u001b[0m\u001b[0;34m.\u001b[0m\u001b[0msetRectROI\u001b[0m\u001b[0;34m(\u001b[0m\u001b[0mtop\u001b[0m\u001b[0;34m=\u001b[0m\u001b[0;36m50\u001b[0m\u001b[0;34m)\u001b[0m\u001b[0;34m\u001b[0m\u001b[0m\n\u001b[1;32m     10\u001b[0m     \u001b[0mrawcam\u001b[0m\u001b[0;34m.\u001b[0m\u001b[0msetIntROI\u001b[0m\u001b[0;34m(\u001b[0m\u001b[0mval_min\u001b[0m\u001b[0;34m=\u001b[0m\u001b[0;36m50\u001b[0m\u001b[0;34m)\u001b[0m\u001b[0;34m\u001b[0m\u001b[0m\n",
      "\u001b[0;32m/home/tomii/.pyenv/versions/anaconda2-4.4.0/lib/python2.7/site-packages/opmap-0.0.1-py2.7.egg/opmap/RawCam.pyc\u001b[0m in \u001b[0;36m__init__\u001b[0;34m(self, path, cam_type, image_width, image_height, frame_start, frame_end)\u001b[0m\n\u001b[1;32m     30\u001b[0m \u001b[0;34m\u001b[0m\u001b[0m\n\u001b[1;32m     31\u001b[0m             \u001b[0mself\u001b[0m\u001b[0;34m.\u001b[0m\u001b[0mfiles\u001b[0m \u001b[0;34m=\u001b[0m \u001b[0msorted\u001b[0m\u001b[0;34m(\u001b[0m\u001b[0mglob\u001b[0m\u001b[0;34m(\u001b[0m\u001b[0mpath\u001b[0m\u001b[0;34m+\u001b[0m\u001b[0;34m\"/*.raw*\"\u001b[0m\u001b[0;34m)\u001b[0m\u001b[0;34m)\u001b[0m\u001b[0;34m\u001b[0m\u001b[0m\n\u001b[0;32m---> 32\u001b[0;31m             \u001b[0;32massert\u001b[0m \u001b[0mlen\u001b[0m\u001b[0;34m(\u001b[0m\u001b[0mself\u001b[0m\u001b[0;34m.\u001b[0m\u001b[0mfiles\u001b[0m\u001b[0;34m)\u001b[0m \u001b[0;34m>\u001b[0m \u001b[0;36m0\u001b[0m\u001b[0;34m\u001b[0m\u001b[0m\n\u001b[0m\u001b[1;32m     33\u001b[0m             \u001b[0mself\u001b[0m\u001b[0;34m.\u001b[0m\u001b[0mfiles\u001b[0m \u001b[0;34m=\u001b[0m \u001b[0mself\u001b[0m\u001b[0;34m.\u001b[0m\u001b[0mfiles\u001b[0m\u001b[0;34m[\u001b[0m\u001b[0mframe_start\u001b[0m\u001b[0;34m:\u001b[0m\u001b[0mframe_end\u001b[0m\u001b[0;34m]\u001b[0m\u001b[0;34m\u001b[0m\u001b[0m\n\u001b[1;32m     34\u001b[0m \u001b[0;34m\u001b[0m\u001b[0m\n",
      "\u001b[0;31mAssertionError\u001b[0m: "
     ]
    }
   ],
   "source": [
    "threshold = 0.8\n",
    "\n",
    "for (n, dir) in enumerate(dirs):\n",
    "    print(dir)\n",
    "    APV_array = np.zeros((128, 128))\n",
    "    result_path = os.path.join(parents_path, dir)\n",
    "    \n",
    "    rawcam = RawCam(path=result_path, cam_type='max', image_height=256, image_width=256, frame_start=200, frame_end=1300)\n",
    "    rawcam.setRectROI(top=50)\n",
    "    rawcam.setIntROI(val_min=50)\n",
    "    rawcam.morphROI(erosion=20)\n",
    "\n",
    "    vmap = VmemMap(rawcam)\n",
    "    vmap.smooth(size=2)\n",
    "    pmap = PhaseMap(vmap, shrink=2)\n",
    "    pvmap = PhaseVarianceMap(pmap)\n",
    "        \n",
    "    phase_variance_array = copy.deepcopy(pvmap.data)[:-100, :, :]\n",
    "    ROI = copy.deepcopy(pvmap.roi)\n",
    "    \n",
    "    core = (phase_variance_array > threshold) * 1\n",
    "    core_count = np.sum(core, axis=0)\n",
    "    \n",
    "    for i in range(128):\n",
    "        for j in range(128):\n",
    "            if ROI[i,j] != 0:\n",
    "                data = copy.deepcopy(phase_variance_array[:, i, j])\n",
    "                while np.max(data) > threshold:\n",
    "                    x_pos = np.argmax(data)\n",
    "                    x_max = x_pos + 1\n",
    "                    x_min = x_pos - 1\n",
    "                    while x_max < 1000 and data[x_max - 1] > data[x_max]:\n",
    "                        x_max += 1\n",
    "                    while x_min > -1 and data[x_min] < data[x_min + 1]:\n",
    "                        x_min -= 1\n",
    "                    data[x_min+2:x_max] = 0\n",
    "                APV_array[i,j] = np.sum(data)/len(np.nonzero(data)[0])\n",
    "                if core_count[i,j] > 0:\n",
    "                    passed_list.append(APV_array[i,j])\n",
    "                else:\n",
    "                    nonpassed_list.append(APV_array[i,j])\n",
    "    \n",
    "    plt.imshow(core_count, cmap='jet')\n",
    "    #plt.colorbar()\n",
    "    plt.savefig('/mnt/recordings/AnalysisResult/Seno/opmap/APV/20170901/without_colorbar/core/core_%s.png' % n, dpi=300, transparent=True)\n",
    "    plt.close()\n",
    "    \n",
    "    plt.imshow(APV_array, cmap='jet')\n",
    "    #plt.colorbar()\n",
    "    plt.savefig('/mnt/recordings/AnalysisResult/Seno/opmap/APV/20170901/without_colorbar/APV/APV_%s.png' % n, dpi=300, transparent=True)\n",
    "    plt.close()"
   ]
  },
  {
   "cell_type": "markdown",
   "metadata": {},
   "source": [
    "# 結果画像"
   ]
  },
  {
   "cell_type": "code",
   "execution_count": 267,
   "metadata": {
    "collapsed": true
   },
   "outputs": [],
   "source": [
    "passed_weights = np.ones_like(passed_list)/float(len(passed_list))\n",
    "nonpassed_weights = np.ones_like(nonpassed_list)/float(len(nonpassed_list))\n",
    "plt.hist(passed_list, bins=1000, range=(0, 0.2), alpha=0.5, color='r', histtype='stepfilled', weights=passed_weights)\n",
    "plt.hist(nonpassed_list, bins=1000, range=(0, 0.2), alpha=0.3, color='b', histtype='stepfilled', weights=nonpassed_weights)\n",
    "plt.xlabel('Phase Variance vaule', size=15)\n",
    "plt.ylabel('Ratio', size=15)\n",
    "plt.xlim([0,0.2])\n",
    "plt.xticks(size=12)\n",
    "plt.yticks(size=12)\n",
    "#plt.title('Histograms', size=20)\n",
    "labels = ['passed', 'nonpassed']\n",
    "plt.legend(labels, fontsize=15)\n",
    "plt.tight_layout()\n",
    "plt.savefig('/mnt/recordings/AnalysisResult/Seno/opmap/APV/20170901/histogram/histogram.png', dpi=300, transparent=True)\n",
    "plt.close()"
   ]
  },
  {
   "cell_type": "code",
   "execution_count": 217,
   "metadata": {
    "collapsed": true
   },
   "outputs": [],
   "source": [
    "np.save('/mnt/recordings/AnalysisResult/Seno/opmap/APV/20170901/other/passed.npy', np.asarray(passed_list))\n",
    "np.save('/mnt/recordings/AnalysisResult/Seno/opmap/APV/20170901/other/nonpassed.npy', np.asarray(nonpassed_list))"
   ]
  },
  {
   "cell_type": "code",
   "execution_count": 244,
   "metadata": {},
   "outputs": [
    {
     "name": "stdout",
     "output_type": "stream",
     "text": [
      "a number:\n",
      "7808\n",
      "a average:\n",
      "0.0323016307831\n",
      "a var:\n",
      "0.000531642027346\n",
      "b number:\n",
      "24885\n",
      "b average:\n",
      "0.0202758732037\n",
      "b var:\n",
      "0.000342738879672\n"
     ]
    }
   ],
   "source": [
    "print('a number:\\n%s' % len(passed_list))\n",
    "print('a average:\\n%s' % np.average(passed_list))\n",
    "print('a var:\\n%s' % np.var(passed_list))\n",
    "print('b number:\\n%s' % len(nonpassed_list))\n",
    "print('b average:\\n%s' % np.average(nonpassed_list))\n",
    "print('b var:\\n%s' % np.var(nonpassed_list))"
   ]
  },
  {
   "cell_type": "code",
   "execution_count": null,
   "metadata": {
    "collapsed": true
   },
   "outputs": [],
   "source": []
  },
  {
   "cell_type": "code",
   "execution_count": 248,
   "metadata": {},
   "outputs": [
    {
     "name": "stdout",
     "output_type": "stream",
     "text": [
      "42.0310702104\n"
     ]
    }
   ],
   "source": [
    "t_value = (np.average(passed_list)-np.average(nonpassed_list)) / np.sqrt((np.var(passed_list)/len(passed_list))+(np.var(nonpassed_list)/len(nonpassed_list)))\n",
    "print(t_value)"
   ]
  },
  {
   "cell_type": "markdown",
   "metadata": {},
   "source": [
    "# アルゴリズム確認"
   ]
  },
  {
   "cell_type": "code",
   "execution_count": 135,
   "metadata": {},
   "outputs": [
    {
     "data": {
      "text/plain": [
       "524"
      ]
     },
     "execution_count": 135,
     "metadata": {},
     "output_type": "execute_result"
    }
   ],
   "source": [
    "np.argmax(phase_variance_array[:, 70, 40])"
   ]
  },
  {
   "cell_type": "code",
   "execution_count": null,
   "metadata": {
    "collapsed": true
   },
   "outputs": [],
   "source": [
    "\"\"\"\n",
    "core = (phase_variance_array > 0.8) * 1\n",
    "core_count = np.sum(core, axis=0)\n",
    "core = (phase_variance_array > 0.6) * 1\n",
    "without_core = 1 - core\n",
    "dat = phase_variance_array * without_core\n",
    "average = np.sum(dat, axis=0) / np.sum(without_core, axis=0)\n",
    "core = (core_count > 0) * 1\n",
    "without_core = 1 - core\n",
    "passed_ave = average * core\n",
    "nonpassed_ave = average * without_core\n",
    "\"\"\""
   ]
  },
  {
   "cell_type": "code",
   "execution_count": 257,
   "metadata": {},
   "outputs": [
    {
     "data": {
      "text/plain": [
       "<matplotlib.lines.Line2D at 0x7f23c6953f50>"
      ]
     },
     "execution_count": 257,
     "metadata": {},
     "output_type": "execute_result"
    },
    {
     "data": {
      "image/png": "[encoded data removed]",
      "text/plain": [
       "<matplotlib.figure.Figure at 0x7f23c6943b10>"
      ]
     },
     "metadata": {},
     "output_type": "display_data"
    }
   ],
   "source": [
    "plt.plot(phase_variance_array[:, 100, 60])\n",
    "plt.axhline(y=0.8, xmin=0, xmax=1000, linewidth=2, color = 'r')"
   ]
  },
  {
   "cell_type": "code",
   "execution_count": 260,
   "metadata": {},
   "outputs": [
    {
     "name": "stdout",
     "output_type": "stream",
     "text": [
      "0.928694\n"
     ]
    }
   ],
   "source": [
    "threshold = 0.8\n",
    "test = copy.deepcopy(phase_variance_array[:, 100, 60])\n",
    "print(np.max(test))\n",
    "while np.max(test) > threshold:\n",
    "    x_pos = np.argmax(test)\n",
    "    x_max = x_pos + 1\n",
    "    x_min = x_pos - 1\n",
    "    while (x_max < 1000) and (test[x_max - 1] > test[x_max]):\n",
    "        x_max += 1\n",
    "    while (x_min > -1) and (test[x_min] < test[x_min + 1]):\n",
    "        x_min -= 1\n",
    "    test[x_min+2:x_max] = 0"
   ]
  },
  {
   "cell_type": "code",
   "execution_count": 263,
   "metadata": {
    "collapsed": true
   },
   "outputs": [],
   "source": [
    "plt.plot(phase_variance_array[:, 100, 60])\n",
    "plt.axhline(y=0.8, xmin=0, xmax=1000, linewidth=2, color = 'r')\n",
    "plt.xlim([0, 1000])\n",
    "plt.ylim([0, 1.0])\n",
    "plt.ylabel('Phase Variance value', size=16)\n",
    "plt.xlabel('Time (ms)', size=16)\n",
    "plt.tight_layout()\n",
    "plt.savefig('/mnt/recordings/AnalysisResult/Seno/opmap/APV/20170901/other/before.png', dpi=300)\n",
    "plt.close()"
   ]
  },
  {
   "cell_type": "code",
   "execution_count": 264,
   "metadata": {
    "collapsed": true
   },
   "outputs": [],
   "source": [
    "plt.plot(test)\n",
    "plt.axhline(y=0.8, xmin=0, xmax=1000, linewidth=2, color = 'r')\n",
    "plt.xlim([0, 1000])\n",
    "plt.ylim([0, 1.0])\n",
    "plt.ylabel('Phase Variance value', size=16)\n",
    "plt.xlabel('Time (ms)', size=16)\n",
    "plt.tight_layout()\n",
    "plt.savefig('/mnt/recordings/AnalysisResult/Seno/opmap/APV/20170901/other/after.png', dpi=300)\n",
    "plt.close()"
   ]
  },
  {
   "cell_type": "code",
   "execution_count": 63,
   "metadata": {},
   "outputs": [
    {
     "data": {
      "text/plain": [
       "0.073668839901028058"
      ]
     },
     "execution_count": 63,
     "metadata": {},
     "output_type": "execute_result"
    }
   ],
   "source": [
    "np.sum(test)/len(np.nonzero(test)[0])"
   ]
  },
  {
   "cell_type": "code",
   "execution_count": 2,
   "metadata": {
    "collapsed": true
   },
   "outputs": [],
   "source": [
    "rawcam = RawCam(path='/mnt/recordings/ExperimentData/030719NIF/NIF S023RM.1@@', cam_type='max', image_height=256, image_width=256, frame_start=200, frame_end=1300)\n",
    "rawcam.setRectROI(top=50)\n",
    "rawcam.setIntROI(val_min=50)\n",
    "rawcam.morphROI(erosion=20)\n",
    "\n",
    "vmap = VmemMap(rawcam)\n",
    "vmap.smooth(size=2)\n",
    "pmap = PhaseMap(vmap, shrink=2)\n",
    "pvmap = PhaseVarianceMap(pmap)"
   ]
  },
  {
   "cell_type": "code",
   "execution_count": 11,
   "metadata": {},
   "outputs": [
    {
     "data": {
      "text/plain": [
       "<matplotlib.colorbar.Colorbar at 0x7f8050856b90>"
      ]
     },
     "execution_count": 11,
     "metadata": {},
     "output_type": "execute_result"
    },
    {
     "data": {
      "image/png": "[encoded data removed]",
      "text/plain": [
       "<matplotlib.figure.Figure at 0x7f8050955950>"
      ]
     },
     "metadata": {},
     "output_type": "display_data"
    }
   ],
   "source": [
    "plt.imshow(pmap.data[500, :, :], vmin=-np.pi, vmax=np.pi, cmap=pmap.cmap)\n",
    "plt.colorbar()\n",
    "#plt.savefig('/mnt/recordings/AnalysisResult/Seno/opmap/example.png', dpi=300)"
   ]
  },
  {
   "cell_type": "code",
   "execution_count": null,
   "metadata": {
    "collapsed": true
   },
   "outputs": [],
   "source": []
  }
 ],
 "metadata": {
  "kernelspec": {
   "display_name": "Python 2",
   "language": "python",
   "name": "python2"
  },
  "language_info": {
   "codemirror_mode": {
    "name": "ipython",
    "version": 2
   },
   "file_extension": ".py",
   "mimetype": "text/x-python",
   "name": "python",
   "nbconvert_exporter": "python",
   "pygments_lexer": "ipython2",
   "version": "2.7.13"
  }
 },
 "nbformat": 4,
 "nbformat_minor": 2
}
