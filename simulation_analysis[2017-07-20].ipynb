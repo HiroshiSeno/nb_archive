{
 "cells": [
  {
   "cell_type": "code",
   "execution_count": 1,
   "metadata": {
    "collapsed": true
   },
   "outputs": [],
   "source": [
    "import numpy as np\n",
    "import matplotlib.pyplot as plt\n",
    "import os\n",
    "import subprocess\n",
    "%matplotlib inline"
   ]
  },
  {
   "cell_type": "code",
   "execution_count": 2,
   "metadata": {
    "collapsed": true
   },
   "outputs": [],
   "source": [
    "from opmap.RawCam import RawCam\n",
    "from opmap.VmemMap import VmemMap\n",
    "from opmap.PhaseMap import PhaseMap\n",
    "from opmap.PhaseVarianceMap import PhaseVarianceMap\n",
    "from opmap.util import makeMovie"
   ]
  },
  {
   "cell_type": "markdown",
   "metadata": {},
   "source": [
    "# イオン電流解析\n",
    "- xica\n",
    "- xik1\n",
    "- xikr\n",
    "- xiks\n",
    "- xina\n",
    "- xiNaCa\n",
    "- xiNaK\n",
    "- xitof\n",
    "- xitos"
   ]
  },
  {
   "cell_type": "code",
   "execution_count": 10,
   "metadata": {
    "collapsed": true
   },
   "outputs": [],
   "source": [
    "folder_times = [['20170711-4', 400], ['20170713-2', 200], ['20170714-2', 400]]\n",
    "ion_currents = ['xica.npy', 'xik1.npy', 'xikr.npy', 'xiks.npy', 'xina.npy', 'xiNaCa.npy', 'xiNaK.npy', 'xitof.npy', 'xitos.npy']"
   ]
  },
  {
   "cell_type": "code",
   "execution_count": 13,
   "metadata": {},
   "outputs": [
    {
     "name": "stdout",
     "output_type": "stream",
     "text": [
      "xica.npy\n",
      "xik1.npy\n",
      "xikr.npy\n",
      "xiks.npy\n",
      "xina.npy\n",
      "xiNaCa.npy\n",
      "xiNaK.npy\n",
      "xitof.npy\n",
      "xitos.npy\n"
     ]
    }
   ],
   "source": [
    "for current_name in ion_currents:\n",
    "    print(current_name)\n",
    "    folder = '20170711-4'\n",
    "    current = np.zeros((1001, 200, 200))\n",
    "    for i in range(400):\n",
    "        num = '{0:04d}'.format(i)\n",
    "        current[i, :, :] = np.load('/mnt/recordings/SimulationResults/20170711-4/cell_%s/%s' % (num, current_name))\n",
    "    for i in range(200):\n",
    "        num = '{0:04d}'.format(i)\n",
    "        current[i+400, :, :] = np.load('/mnt/recordings/SimulationResults/20170713-2/cell_%s/%s' % (num, current_name))\n",
    "    for i in range(400):\n",
    "        num = '{0:04d}'.format(i)\n",
    "        current[i+600, :, :] = np.load('/mnt/recordings/SimulationResults/20170714-2/cell_%s/%s' % (num, current_name))\n",
    "\n",
    "    save_dir = '/mnt/recordings/AnalysisResult/Seno/simulation/Mahajan/20170720/20170711-4/current/%s/' % current_name.split('.')[0]\n",
    "    if not os.path.exists(save_dir):\n",
    "        os.makedirs(save_dir)\n",
    "\n",
    "    plt.imshow(current[0, :, :], vmin=np.min(current), vmax=np.max(current), cmap='jet')\n",
    "    plt.colorbar()\n",
    "    plt.savefig(os.path.join(save_dir, 'sample.png'))\n",
    "    plt.close()\n",
    "\n",
    "    for i in range(1000):\n",
    "        output_num = '{0:06d}'.format(i)\n",
    "        plt.imsave(os.path.join(save_dir, '%s.png' % output_num), current[i, :, :], vmin=np.min(current), vmax=np.max(current), cmap='jet')\n"
   ]
  },
  {
   "cell_type": "code",
   "execution_count": 16,
   "metadata": {},
   "outputs": [],
   "source": [
    "for current_name in ion_currents:\n",
    "    subprocess.call('ffmpeg -r 30 -y -i \"/mnt/recordings/AnalysisResult/Seno/simulation/Mahajan/20170720/{0}/current/{1}/%06d.png\" -c:v libx264 -pix_fmt yuv420p -qscale 0 \"/mnt/recordings/AnalysisResult/Seno/simulation/Mahajan/20170720/{0}/current/{1}/movie.mp4\"'.format(folder, current_name.split('.')[0]), shell=True)"
   ]
  },
  {
   "cell_type": "code",
   "execution_count": 9,
   "metadata": {},
   "outputs": [],
   "source": [
    "save_dir = '/mnt/recordings/AnalysisResult/Seno/simulation/Mahajan/20170720/20170711-4/current/%s/' % current_name.split('.')[0]\n",
    "if not os.path.exists(save_dir):\n",
    "    os.makedirs(save_dir)\n",
    "\n",
    "plt.imshow(current[0, :, :], vmin=np.min(current), vmax=np.max(current), cmap='jet')\n",
    "plt.colorbar()\n",
    "plt.savefig(os.path.join(save_dir, 'sample.png'))\n",
    "plt.close()\n",
    "\n",
    "for i in range(1000):\n",
    "    output_num = '{0:06d}'.format(i)\n",
    "    plt.imsave(os.path.join(save_dir, '%s.png' % output_num), current[i, :, :], vmin=np.min(current), vmax=np.max(current), cmap='jet')"
   ]
  },
  {
   "cell_type": "code",
   "execution_count": null,
   "metadata": {
    "collapsed": true
   },
   "outputs": [],
   "source": []
  },
  {
   "cell_type": "code",
   "execution_count": 5,
   "metadata": {},
   "outputs": [
    {
     "name": "stdout",
     "output_type": "stream",
     "text": [
      "xica.npy\n",
      "start loading\n"
     ]
    },
    {
     "ename": "KeyboardInterrupt",
     "evalue": "",
     "output_type": "error",
     "traceback": [
      "\u001b[0;31m\u001b[0m",
      "\u001b[0;31mKeyboardInterrupt\u001b[0mTraceback (most recent call last)",
      "\u001b[0;32m<ipython-input-5-22a59c140266>\u001b[0m in \u001b[0;36m<module>\u001b[0;34m()\u001b[0m\n\u001b[1;32m     12\u001b[0m         \u001b[0;32mfor\u001b[0m \u001b[0mi\u001b[0m \u001b[0;32min\u001b[0m \u001b[0mrange\u001b[0m\u001b[0;34m(\u001b[0m\u001b[0;36m369\u001b[0m\u001b[0;34m)\u001b[0m\u001b[0;34m:\u001b[0m\u001b[0;34m\u001b[0m\u001b[0m\n\u001b[1;32m     13\u001b[0m             \u001b[0minput_num\u001b[0m \u001b[0;34m=\u001b[0m \u001b[0;34m'{0:04d}'\u001b[0m\u001b[0;34m.\u001b[0m\u001b[0mformat\u001b[0m\u001b[0;34m(\u001b[0m\u001b[0mi\u001b[0m\u001b[0;34m)\u001b[0m\u001b[0;34m\u001b[0m\u001b[0m\n\u001b[0;32m---> 14\u001b[0;31m             \u001b[0mdat\u001b[0m\u001b[0;34m[\u001b[0m\u001b[0mi\u001b[0m\u001b[0;34m,\u001b[0m \u001b[0;34m:\u001b[0m\u001b[0;34m,\u001b[0m \u001b[0;34m:\u001b[0m\u001b[0;34m]\u001b[0m \u001b[0;34m=\u001b[0m \u001b[0mnp\u001b[0m\u001b[0;34m.\u001b[0m\u001b[0mload\u001b[0m\u001b[0;34m(\u001b[0m\u001b[0mos\u001b[0m\u001b[0;34m.\u001b[0m\u001b[0mpath\u001b[0m\u001b[0;34m.\u001b[0m\u001b[0mjoin\u001b[0m\u001b[0;34m(\u001b[0m\u001b[0msrc_dir\u001b[0m \u001b[0;34m%\u001b[0m \u001b[0;34m(\u001b[0m\u001b[0mfolder\u001b[0m\u001b[0;34m,\u001b[0m \u001b[0minput_num\u001b[0m\u001b[0;34m)\u001b[0m\u001b[0;34m,\u001b[0m \u001b[0mcurrent\u001b[0m\u001b[0;34m)\u001b[0m\u001b[0;34m)\u001b[0m\u001b[0;34m\u001b[0m\u001b[0m\n\u001b[0m\u001b[1;32m     15\u001b[0m \u001b[0;34m\u001b[0m\u001b[0m\n\u001b[1;32m     16\u001b[0m         \u001b[0;32mprint\u001b[0m\u001b[0;34m(\u001b[0m\u001b[0;34m'start output'\u001b[0m\u001b[0;34m)\u001b[0m\u001b[0;34m\u001b[0m\u001b[0m\n",
      "\u001b[0;32m/home/tomii/.pyenv/versions/anaconda2-4.4.0/lib/python2.7/site-packages/numpy/lib/npyio.pyc\u001b[0m in \u001b[0;36mload\u001b[0;34m(file, mmap_mode, allow_pickle, fix_imports, encoding)\u001b[0m\n\u001b[1;32m    404\u001b[0m             \u001b[0;32melse\u001b[0m\u001b[0;34m:\u001b[0m\u001b[0;34m\u001b[0m\u001b[0m\n\u001b[1;32m    405\u001b[0m                 return format.read_array(fid, allow_pickle=allow_pickle,\n\u001b[0;32m--> 406\u001b[0;31m                                          pickle_kwargs=pickle_kwargs)\n\u001b[0m\u001b[1;32m    407\u001b[0m         \u001b[0;32melse\u001b[0m\u001b[0;34m:\u001b[0m\u001b[0;34m\u001b[0m\u001b[0m\n\u001b[1;32m    408\u001b[0m             \u001b[0;31m# Try a pickle\u001b[0m\u001b[0;34m\u001b[0m\u001b[0;34m\u001b[0m\u001b[0m\n",
      "\u001b[0;32m/home/tomii/.pyenv/versions/anaconda2-4.4.0/lib/python2.7/site-packages/numpy/lib/format.pyc\u001b[0m in \u001b[0;36mread_array\u001b[0;34m(fp, allow_pickle, pickle_kwargs)\u001b[0m\n\u001b[1;32m    646\u001b[0m         \u001b[0;32mif\u001b[0m \u001b[0misfileobj\u001b[0m\u001b[0;34m(\u001b[0m\u001b[0mfp\u001b[0m\u001b[0;34m)\u001b[0m\u001b[0;34m:\u001b[0m\u001b[0;34m\u001b[0m\u001b[0m\n\u001b[1;32m    647\u001b[0m             \u001b[0;31m# We can use the fast fromfile() function.\u001b[0m\u001b[0;34m\u001b[0m\u001b[0;34m\u001b[0m\u001b[0m\n\u001b[0;32m--> 648\u001b[0;31m             \u001b[0marray\u001b[0m \u001b[0;34m=\u001b[0m \u001b[0mnumpy\u001b[0m\u001b[0;34m.\u001b[0m\u001b[0mfromfile\u001b[0m\u001b[0;34m(\u001b[0m\u001b[0mfp\u001b[0m\u001b[0;34m,\u001b[0m \u001b[0mdtype\u001b[0m\u001b[0;34m=\u001b[0m\u001b[0mdtype\u001b[0m\u001b[0;34m,\u001b[0m \u001b[0mcount\u001b[0m\u001b[0;34m=\u001b[0m\u001b[0mcount\u001b[0m\u001b[0;34m)\u001b[0m\u001b[0;34m\u001b[0m\u001b[0m\n\u001b[0m\u001b[1;32m    649\u001b[0m         \u001b[0;32melse\u001b[0m\u001b[0;34m:\u001b[0m\u001b[0;34m\u001b[0m\u001b[0m\n\u001b[1;32m    650\u001b[0m             \u001b[0;31m# This is not a real file. We have to read it the\u001b[0m\u001b[0;34m\u001b[0m\u001b[0;34m\u001b[0m\u001b[0m\n",
      "\u001b[0;31mKeyboardInterrupt\u001b[0m: "
     ]
    }
   ],
   "source": [
    "src_dir = '/mnt/recordings/SimulationResults/%s/cell_%s'\n",
    "out_dir = '/mnt/recordings/AnalysisResult/Seno/simulation/Mahajan/20170713/%s/currents/%s'\n",
    "\n",
    "for folder in folders:\n",
    "    for current in ion_currents:\n",
    "        print(current)\n",
    "        if not os.path.exists(out_dir % (folder, current.split('.')[0])):\n",
    "            os.makedirs(out_dir % (folder, current.split('.')[0]))\n",
    "\n",
    "        dat = np.zeros((369, 200, 200))\n",
    "        print('start loading')\n",
    "        for i in range(369):\n",
    "            input_num = '{0:04d}'.format(i)\n",
    "            dat[i, :, :] = np.load(os.path.join(src_dir % (folder, input_num), current))\n",
    "\n",
    "        print('start output')\n",
    "        plt.imshow(dat[0, :, :], vmin=np.min(dat), vmax=np.max(dat), cmap='jet')\n",
    "        plt.colorbar()\n",
    "        plt.savefig(os.path.join((out_dir % (folder, current.split('.')[0])), 'sample.png'))\n",
    "        plt.close()\n",
    "\n",
    "        for i in range(369):\n",
    "            output_num = '{0:06d}'.format(i)\n",
    "            plt.imsave(os.path.join((out_dir % (folder, current.split('.')[0])), ('%s.png' % output_num)), dat[i, :, :], vmin=np.min(dat), vmax=np.max(dat), cmap='jet')\n",
    "\n",
    "        subprocess.call('ffmpeg -r 30 -y -i \"/mnt/recordings/AnalysisResult/Seno/simulation/Mahajan/20170713/{0}/currents/{1}/%06d.png\" -c:v libx264 -pix_fmt yuv420p -qscale 0 \"/mnt/recordings/AnalysisResult/Seno/simulation/Mahajan/20170713/{0}/currents/{1}/movie.mp4\"'.format(folder, current.split('.')[0]), shell=True)"
   ]
  },
  {
   "cell_type": "code",
   "execution_count": null,
   "metadata": {
    "collapsed": true
   },
   "outputs": [],
   "source": []
  }
 ],
 "metadata": {
  "kernelspec": {
   "display_name": "Python 2",
   "language": "python",
   "name": "python2"
  },
  "language_info": {
   "codemirror_mode": {
    "name": "ipython",
    "version": 2
   },
   "file_extension": ".py",
   "mimetype": "text/x-python",
   "name": "python",
   "nbconvert_exporter": "python",
   "pygments_lexer": "ipython2",
   "version": "2.7.13"
  }
 },
 "nbformat": 4,
 "nbformat_minor": 2
}
