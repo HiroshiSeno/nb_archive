{
 "cells": [
  {
   "cell_type": "code",
   "execution_count": 1,
   "metadata": {
    "collapsed": true
   },
   "outputs": [],
   "source": [
    "import numpy as np\n",
    "import matplotlib.pyplot as plt\n",
    "import os\n",
    "%matplotlib inline"
   ]
  },
  {
   "cell_type": "code",
   "execution_count": 2,
   "metadata": {
    "collapsed": true
   },
   "outputs": [],
   "source": [
    "from opmap.RawCam import RawCam\n",
    "from opmap.VmemMap import VmemMap\n",
    "from opmap.PhaseMap import PhaseMap\n",
    "from opmap.PhaseVarianceMap import PhaseVarianceMap\n",
    "from opmap.util import makeMovie"
   ]
  },
  {
   "cell_type": "code",
   "execution_count": 11,
   "metadata": {
    "collapsed": true
   },
   "outputs": [],
   "source": [
    "import subprocess\n",
    "output_name = '20170824'\n",
    "folder_name = '20170824-5'"
   ]
  },
  {
   "cell_type": "markdown",
   "metadata": {
    "collapsed": true
   },
   "source": [
    "# vmem読み込み"
   ]
  },
  {
   "cell_type": "code",
   "execution_count": 35,
   "metadata": {},
   "outputs": [
    {
     "data": {
      "text/plain": [
       "0"
      ]
     },
     "execution_count": 35,
     "metadata": {},
     "output_type": "execute_result"
    }
   ],
   "source": [
    "vmem1 = RawCam(path='/mnt/recordings/SimulationResults/20170818-3', cam_type='numpy', image_width=400, image_height=200, frame_start=0, frame_end=-1)\n",
    "vmem2 = RawCam(path='/mnt/recordings/SimulationResults/20170820-1', cam_type='numpy', image_width=400, image_height=200, frame_start=0, frame_end=-1)\n",
    "vmem1.data = np.vstack((vmem1.data, vmem2.data[1:, :, :]))\n",
    "vmem_temp = VmemMap(vmem1)\n",
    "vmem1.cmap = vmem_temp.cmap\n",
    "vmem1.saveImage('/mnt/recordings/AnalysisResult/Seno/simulation/Mahajan/%s/%s' % (output_name, folder_name))\n",
    "subprocess.call('ffmpeg -r 30 -y -i \"/mnt/recordings/AnalysisResult/Seno/simulation/Mahajan/{0}/{1}/%06d.png\" -c:v libx264 -pix_fmt yuv420p -qscale 0 \"/mnt/recordings/AnalysisResult/Seno/simulation/Mahajan/{0}/{1}/movie.mp4\"'.format(output_name, folder_name), shell=True)"
   ]
  },
  {
   "cell_type": "code",
   "execution_count": 12,
   "metadata": {},
   "outputs": [
    {
     "data": {
      "text/plain": [
       "0"
      ]
     },
     "execution_count": 12,
     "metadata": {},
     "output_type": "execute_result"
    }
   ],
   "source": [
    "vmem1 = RawCam(path='/mnt/recordings/SimulationResults/%s' % folder_name, cam_type='numpy', image_width=400, image_height=200, frame_start=0, frame_end=-1)\n",
    "vmem_temp = VmemMap(vmem1)\n",
    "vmem1.cmap = vmem_temp.cmap\n",
    "vmem1.saveImage('/mnt/recordings/AnalysisResult/Seno/simulation/Mahajan/%s/%s' % (output_name, folder_name))\n",
    "subprocess.call('ffmpeg -r 30 -y -i \"/mnt/recordings/AnalysisResult/Seno/simulation/Mahajan/{0}/{1}/%06d.png\" -c:v libx264 -pix_fmt yuv420p -qscale 0 \"/mnt/recordings/AnalysisResult/Seno/simulation/Mahajan/{0}/{1}/movie.mp4\"'.format(output_name, folder_name), shell=True)"
   ]
  },
  {
   "cell_type": "markdown",
   "metadata": {},
   "source": [
    "# Brugada比較"
   ]
  },
  {
   "cell_type": "code",
   "execution_count": 99,
   "metadata": {
    "collapsed": true
   },
   "outputs": [],
   "source": [
    "Normal = np.zeros(180)\n",
    "Brugada12 = np.zeros(180)\n",
    "Brugada121 = np.zeros(180)\n",
    "Brugada122 = np.zeros(180)\n",
    "Brugada125 = np.zeros(180)\n",
    "Brugada13 = np.zeros(180)\n",
    "\n",
    "for i in range(180):\n",
    "    num = \"{0:05d}\".format(i+5221)\n",
    "    Normal[i] = np.load('/mnt/recordings/SimulationResults/20170624-1/%s/v.npy' % num)\n",
    "    Brugada12[i] = np.load('/mnt/recordings/SimulationResults/20170707-2/%s/v.npy' % num)\n",
    "    Brugada121[i] = np.load('/mnt/recordings/SimulationResults/20170823-2/%s/v.npy' % num)\n",
    "    Brugada122[i] = np.load('/mnt/recordings/SimulationResults/20170823-3/%s/v.npy' % num)\n",
    "    Brugada125[i] = np.load('/mnt/recordings/SimulationResults/20170823-1/%s/v.npy' % num)\n",
    "    Brugada13[i] = np.load('/mnt/recordings/SimulationResults/20170822-2/%s/v.npy' % num)"
   ]
  },
  {
   "cell_type": "code",
   "execution_count": 101,
   "metadata": {},
   "outputs": [],
   "source": [
    "plt.plot(Normal, label='Normal')\n",
    "plt.plot(Brugada12, label='Brugada x1.2')\n",
    "plt.plot(Brugada121, label='Brugada x1.21')\n",
    "plt.plot(Brugada122, label='Brugada x1.22')\n",
    "plt.plot(Brugada125, label='Brugada x1.25')\n",
    "plt.plot(Brugada13, label='Brugada x1.3')\n",
    "plt.xlim([0, 180])\n",
    "plt.legend(fontsize=14)\n",
    "plt.xlabel('Time (ms)', size=16)\n",
    "plt.ylabel('Membrane Potential (mV)', size=16)\n",
    "plt.tight_layout()\n",
    "plt.savefig('/mnt/recordings/AnalysisResult/Seno/simulation/Mahajan/20170823/Brugada.png', dpi=300)\n",
    "plt.close()"
   ]
  },
  {
   "cell_type": "code",
   "execution_count": null,
   "metadata": {
    "collapsed": true
   },
   "outputs": [],
   "source": []
  }
 ],
 "metadata": {
  "kernelspec": {
   "display_name": "Python 2",
   "language": "python",
   "name": "python2"
  },
  "language_info": {
   "codemirror_mode": {
    "name": "ipython",
    "version": 2
   },
   "file_extension": ".py",
   "mimetype": "text/x-python",
   "name": "python",
   "nbconvert_exporter": "python",
   "pygments_lexer": "ipython2",
   "version": "2.7.13"
  }
 },
 "nbformat": 4,
 "nbformat_minor": 2
}
