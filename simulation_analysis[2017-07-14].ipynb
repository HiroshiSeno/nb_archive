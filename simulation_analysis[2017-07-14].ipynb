{
 "cells": [
  {
   "cell_type": "code",
   "execution_count": 1,
   "metadata": {
    "collapsed": true
   },
   "outputs": [],
   "source": [
    "import numpy as np\n",
    "import matplotlib.pyplot as plt\n",
    "import os\n",
    "import json\n",
    "import subprocess\n",
    "%matplotlib inline"
   ]
  },
  {
   "cell_type": "code",
   "execution_count": 2,
   "metadata": {
    "collapsed": true
   },
   "outputs": [],
   "source": [
    "from opmap.RawCam import RawCam\n",
    "from opmap.VmemMap import VmemMap\n",
    "from opmap.PhaseMap import PhaseMap\n",
    "from opmap.PhaseVarianceMap import PhaseVarianceMap\n",
    "from opmap.util import makeMovie"
   ]
  },
  {
   "cell_type": "code",
   "execution_count": 3,
   "metadata": {
    "collapsed": true
   },
   "outputs": [],
   "source": [
    "output_name = '20170723'\n",
    "folder_name = '20170721-1'"
   ]
  },
  {
   "cell_type": "markdown",
   "metadata": {},
   "source": [
    "# vmem"
   ]
  },
  {
   "cell_type": "code",
   "execution_count": 4,
   "metadata": {
    "collapsed": true
   },
   "outputs": [],
   "source": [
    "vmem1 = RawCam(path='/mnt/recordings/SimulationResults/20170721-1', cam_type='numpy', image_width=200, image_height=200, frame_start=0, frame_end=-1)\n",
    "#vmem2 = RawCam(path='/mnt/recordings/SimulationResults/20170713-2/', cam_type='numpy', image_width=200, image_height=200, frame_start=0, frame_end=-1)\n",
    "#vmem3 = RawCam(path='/mnt/recordings/SimulationResults/20170713-3', cam_type='numpy', image_width=200, image_height=200, frame_start=0, frame_end=-1)\n",
    "#vmem4 = RawCam(path='/mnt/recordings/SimulationResults/20170714-2/', cam_type='numpy', image_width=200, image_height=200, frame_start=0, frame_end=-1)"
   ]
  },
  {
   "cell_type": "code",
   "execution_count": 5,
   "metadata": {
    "collapsed": true
   },
   "outputs": [],
   "source": [
    "vmem1.data = np.vstack((vmem1.data, vmem2.data[1:, :, :]))\n",
    "#vmem1.data = np.vstack((vmem1.data, vmem3.data[1:, :, :]))\n",
    "vmem1.data = np.vstack((vmem1.data, vmem4.data[1:, :, :]))"
   ]
  },
  {
   "cell_type": "code",
   "execution_count": 5,
   "metadata": {},
   "outputs": [
    {
     "data": {
      "text/plain": [
       "(1001, 200, 200)"
      ]
     },
     "execution_count": 5,
     "metadata": {},
     "output_type": "execute_result"
    }
   ],
   "source": [
    "vmem1.data.shape"
   ]
  },
  {
   "cell_type": "code",
   "execution_count": 6,
   "metadata": {
    "collapsed": true
   },
   "outputs": [],
   "source": [
    "vmem_temp = VmemMap(vmem1)\n",
    "vmem1.cmap = vmem_temp.cmap"
   ]
  },
  {
   "cell_type": "code",
   "execution_count": 7,
   "metadata": {
    "collapsed": true
   },
   "outputs": [],
   "source": [
    "plt.imshow(vmem1.data[0, :, :], vmin=np.min(vmem1.data), vmax=np.max(vmem1.data), cmap=vmem1.cmap)\n",
    "plt.colorbar()\n",
    "plt.savefig('/mnt/recordings/AnalysisResult/Seno/simulation/Mahajan/20170723/vmem.png', dpi=1000)\n",
    "plt.close()"
   ]
  },
  {
   "cell_type": "code",
   "execution_count": 8,
   "metadata": {
    "collapsed": true
   },
   "outputs": [],
   "source": [
    "vmem1.saveImage('/mnt/recordings/AnalysisResult/Seno/simulation/Mahajan/%s/%s/vmem' % (output_name, folder_name))"
   ]
  },
  {
   "cell_type": "markdown",
   "metadata": {},
   "source": [
    "# phase map"
   ]
  },
  {
   "cell_type": "code",
   "execution_count": 9,
   "metadata": {
    "collapsed": true
   },
   "outputs": [],
   "source": [
    "pmap = PhaseMap(vmem1, shrink=2)"
   ]
  },
  {
   "cell_type": "code",
   "execution_count": 10,
   "metadata": {
    "collapsed": true
   },
   "outputs": [],
   "source": [
    "pmap.saveImage('/mnt/recordings/AnalysisResult/Seno/simulation/Mahajan/%s/%s/pmap' % (output_name, folder_name))"
   ]
  },
  {
   "cell_type": "markdown",
   "metadata": {},
   "source": [
    "# phase variance map"
   ]
  },
  {
   "cell_type": "code",
   "execution_count": 11,
   "metadata": {
    "collapsed": true
   },
   "outputs": [],
   "source": [
    "pvmap = PhaseVarianceMap(pmap, size=3)"
   ]
  },
  {
   "cell_type": "code",
   "execution_count": 12,
   "metadata": {
    "collapsed": true
   },
   "outputs": [],
   "source": [
    "pvmap.saveImage('/mnt/recordings/AnalysisResult/Seno/simulation/Mahajan/%s/%s/pvmap' % (output_name, folder_name))"
   ]
  },
  {
   "cell_type": "markdown",
   "metadata": {},
   "source": [
    "# make movie"
   ]
  },
  {
   "cell_type": "code",
   "execution_count": 13,
   "metadata": {},
   "outputs": [
    {
     "data": {
      "text/plain": [
       "0"
      ]
     },
     "execution_count": 13,
     "metadata": {},
     "output_type": "execute_result"
    }
   ],
   "source": [
    "subprocess.call('ffmpeg -r 30 -y -i \"/mnt/recordings/AnalysisResult/Seno/simulation/Mahajan/{0}/{1}/vmem/%06d.png\" -c:v libx264 -pix_fmt yuv420p -qscale 0 \"/mnt/recordings/AnalysisResult/Seno/simulation/Mahajan/{0}/{1}/vmem/vmem.mp4\"'.format(output_name, folder_name), shell=True)\n",
    "subprocess.call('ffmpeg -r 30 -y -i \"/mnt/recordings/AnalysisResult/Seno/simulation/Mahajan/{0}/{1}/pmap/%06d.png\" -c:v libx264 -pix_fmt yuv420p -qscale 0 \"/mnt/recordings/AnalysisResult/Seno/simulation/Mahajan/{0}/{1}/pmap/pmap.mp4\"'.format(output_name, folder_name), shell=True)\n",
    "subprocess.call('ffmpeg -r 30 -y -i \"/mnt/recordings/AnalysisResult/Seno/simulation/Mahajan/{0}/{1}/pvmap/%06d.png\" -c:v libx264 -pix_fmt yuv420p -qscale 0 \"/mnt/recordings/AnalysisResult/Seno/simulation/Mahajan/{0}/{1}/pvmap/pvmap.mp4\"'.format(output_name, folder_name), shell=True)"
   ]
  },
  {
   "cell_type": "code",
   "execution_count": 17,
   "metadata": {
    "collapsed": true
   },
   "outputs": [],
   "source": [
    "a = np.ones((200, 200))\n",
    "for i in range(200):\n",
    "    for j in range(200):\n",
    "        if (i-100)*(i-100)+(j-150)*(j-150) < 900:\n",
    "            a[i][j] = 0\n",
    "for i in range(200):\n",
    "    for j in range(200):\n",
    "        if (i-100)*(i-100)+(j-100)*(j-100) < 100:\n",
    "            a[i][j] = 0"
   ]
  },
  {
   "cell_type": "code",
   "execution_count": 19,
   "metadata": {},
   "outputs": [
    {
     "data": {
      "image/png": "[encoded data removed]",
      "text/plain": [
       "<matplotlib.figure.Figure at 0x7f98d6e41590>"
      ]
     },
     "metadata": {},
     "output_type": "display_data"
    }
   ],
   "source": [
    "plt.imshow(a)\n",
    "plt.imsave('/mnt/recordings/AnalysisResult/Seno/simulation/Mahajan/20170723/mask.png', a, dpi=500)"
   ]
  },
  {
   "cell_type": "code",
   "execution_count": null,
   "metadata": {
    "collapsed": true
   },
   "outputs": [],
   "source": []
  }
 ],
 "metadata": {
  "kernelspec": {
   "display_name": "Python 2",
   "language": "python",
   "name": "python2"
  },
  "language_info": {
   "codemirror_mode": {
    "name": "ipython",
    "version": 2
   },
   "file_extension": ".py",
   "mimetype": "text/x-python",
   "name": "python",
   "nbconvert_exporter": "python",
   "pygments_lexer": "ipython2",
   "version": "2.7.13"
  }
 },
 "nbformat": 4,
 "nbformat_minor": 2
}
