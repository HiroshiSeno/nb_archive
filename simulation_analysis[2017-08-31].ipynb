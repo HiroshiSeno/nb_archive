{
 "cells": [
  {
   "cell_type": "code",
   "execution_count": 1,
   "metadata": {
    "collapsed": true
   },
   "outputs": [],
   "source": [
    "import numpy as np\n",
    "import matplotlib.pyplot as plt\n",
    "import os\n",
    "%matplotlib inline"
   ]
  },
  {
   "cell_type": "code",
   "execution_count": 2,
   "metadata": {
    "collapsed": true
   },
   "outputs": [],
   "source": [
    "from opmap.RawCam import RawCam\n",
    "from opmap.VmemMap import VmemMap\n",
    "from opmap.PhaseMap import PhaseMap\n",
    "from opmap.PhaseVarianceMap import PhaseVarianceMap\n",
    "from opmap.util import makeMovie"
   ]
  },
  {
   "cell_type": "code",
   "execution_count": 9,
   "metadata": {
    "collapsed": true
   },
   "outputs": [],
   "source": [
    "import subprocess\n",
    "output_name = '20170905'\n",
    "folder_name = '20170905-3'"
   ]
  },
  {
   "cell_type": "markdown",
   "metadata": {
    "collapsed": true
   },
   "source": [
    "# vmem読み込み"
   ]
  },
  {
   "cell_type": "code",
   "execution_count": 12,
   "metadata": {},
   "outputs": [
    {
     "data": {
      "text/plain": [
       "0"
      ]
     },
     "execution_count": 12,
     "metadata": {},
     "output_type": "execute_result"
    }
   ],
   "source": [
    "vmem1 = RawCam(path='/mnt/recordings/SimulationResults/%s' % folder_name, cam_type='numpy', image_width=300, image_height=150, frame_start=0, frame_end=-1)\n",
    "vmem_temp = VmemMap(vmem1)\n",
    "vmem1.cmap = vmem_temp.cmap\n",
    "vmem1.saveImage('/mnt/recordings/AnalysisResult/Seno/simulation/Mahajan/%s/%s' % (output_name, folder_name))\n",
    "subprocess.call('ffmpeg -r 30 -y -i \"/mnt/recordings/AnalysisResult/Seno/simulation/Mahajan/{0}/{1}/%06d.png\" -c:v libx264 -pix_fmt yuv420p -qscale 0 \"/mnt/recordings/AnalysisResult/Seno/simulation/Mahajan/{0}/{1}/movie.mp4\"'.format(output_name, folder_name), shell=True)"
   ]
  },
  {
   "cell_type": "markdown",
   "metadata": {
    "collapsed": true
   },
   "source": [
    "# 領域制限"
   ]
  },
  {
   "cell_type": "code",
   "execution_count": 39,
   "metadata": {
    "collapsed": true
   },
   "outputs": [],
   "source": [
    "names = ['c1', 'c2', 'cai', 'dt', 'dyad', 'h', 'it', 'j', 'jsr', 'm', 'nai', 'nsr', 'st', 'submem', 'temp', 'tropi', 'trops', 'v', 'xi1ba', 'xi1ca', 'xi2ba', 'xi2ca', 'xica', 'xik1', 'xikr', 'xiks', 'xina', 'xiNaCa', 'xiNaK', 'xir', 'xito', 'xitof', 'xitos', 'xr', 'xs1', 'xs2', 'xtof', 'xtos', 'ytof', 'ytos']"
   ]
  },
  {
   "cell_type": "code",
   "execution_count": 36,
   "metadata": {
    "collapsed": true
   },
   "outputs": [],
   "source": [
    "phie = np.load('/mnt/recordings/SimulationResults/20170829-1/phie_0200.npy')[25:175, 100:]\n",
    "vmem = np.load('/mnt/recordings/SimulationResults/20170829-1/vmem_0200.npy')[25:175, 100:]\n",
    "np.save('/mnt/recordings/SimulationResults/20170829-2/phie_0000.npy', phie)\n",
    "np.save('/mnt/recordings/SimulationResults/20170829-2/vmem_0000.npy', vmem)"
   ]
  },
  {
   "cell_type": "code",
   "execution_count": 42,
   "metadata": {
    "collapsed": true
   },
   "outputs": [],
   "source": [
    "for name in names:\n",
    "    data = np.load('/mnt/recordings/SimulationResults/20170829-1/cell_0200/%s.npy' % name)[25:175, 100:]\n",
    "    np.save('/mnt/recordings/SimulationResults/20170829-2/cell_0000/%s.npy' % name, data)"
   ]
  },
  {
   "cell_type": "code",
   "execution_count": null,
   "metadata": {
    "collapsed": true
   },
   "outputs": [],
   "source": []
  }
 ],
 "metadata": {
  "kernelspec": {
   "display_name": "Python 2",
   "language": "python",
   "name": "python2"
  },
  "language_info": {
   "codemirror_mode": {
    "name": "ipython",
    "version": 2
   },
   "file_extension": ".py",
   "mimetype": "text/x-python",
   "name": "python",
   "nbconvert_exporter": "python",
   "pygments_lexer": "ipython2",
   "version": "2.7.13"
  }
 },
 "nbformat": 4,
 "nbformat_minor": 2
}
