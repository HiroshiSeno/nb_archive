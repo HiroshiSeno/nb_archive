{
 "cells": [
  {
   "cell_type": "code",
   "execution_count": 1,
   "metadata": {
    "collapsed": true
   },
   "outputs": [],
   "source": [
    "import numpy as np\n",
    "import matplotlib.pyplot as plt\n",
    "import os\n",
    "import json\n",
    "import subprocess\n",
    "import cv2\n",
    "%matplotlib inline"
   ]
  },
  {
   "cell_type": "code",
   "execution_count": 2,
   "metadata": {
    "collapsed": true
   },
   "outputs": [],
   "source": [
    "from opmap.RawCam import RawCam\n",
    "from opmap.VmemMap import VmemMap\n",
    "from opmap.PhaseMap import PhaseMap\n",
    "from opmap.PhaseVarianceMap import PhaseVarianceMap\n",
    "from opmap.util import makeMovie"
   ]
  },
  {
   "cell_type": "markdown",
   "metadata": {
    "collapsed": true
   },
   "source": [
    "# hj map & Ina map & pvmap"
   ]
  },
  {
   "cell_type": "code",
   "execution_count": 3,
   "metadata": {
    "collapsed": true
   },
   "outputs": [],
   "source": [
    "hj_array = np.zeros((1001, 200, 200))\n",
    "m_array = np.zeros((1001, 200, 200))\n",
    "Ina = np.zeros((1001, 200, 200))"
   ]
  },
  {
   "cell_type": "code",
   "execution_count": 4,
   "metadata": {
    "collapsed": true
   },
   "outputs": [],
   "source": [
    "for i in range(400):\n",
    "    num = '{0:04d}'.format(i)\n",
    "    a = np.load('/mnt/recordings/SimulationResults/20170711-4/cell_%s/%s' % (num, 'h.npy'))\n",
    "    b = np.load('/mnt/recordings/SimulationResults/20170711-4/cell_%s/%s' % (num, 'j.npy'))\n",
    "    hj_array[i, :, :] = a*b\n",
    "    m_array[i, :, :] = np.load('/mnt/recordings/SimulationResults/20170711-4/cell_%s/%s' % (num, 'm.npy'))\n",
    "    Ina[i, :, :] = np.load('/mnt/recordings/SimulationResults/20170711-4/cell_%s/%s' % (num, 'xina.npy'))\n",
    "for i in range(200):\n",
    "    num = '{0:04d}'.format(i)\n",
    "    a = np.load('/mnt/recordings/SimulationResults/20170713-2/cell_%s/%s' % (num, 'h.npy'))\n",
    "    b = np.load('/mnt/recordings/SimulationResults/20170713-2/cell_%s/%s' % (num, 'j.npy'))\n",
    "    hj_array[i+400, :, :] = a*b\n",
    "    m_array[i+400, :, :] = np.load('/mnt/recordings/SimulationResults/20170713-2/cell_%s/%s' % (num, 'm.npy'))\n",
    "    Ina[i+400, :, :] = np.load('/mnt/recordings/SimulationResults/20170713-2/cell_%s/%s' % (num, 'xina.npy'))\n",
    "for i in range(400):\n",
    "    num = '{0:04d}'.format(i)\n",
    "    a = np.load('/mnt/recordings/SimulationResults/20170714-2/cell_%s/%s' % (num, 'h.npy'))\n",
    "    b = np.load('/mnt/recordings/SimulationResults/20170714-2/cell_%s/%s' % (num, 'j.npy'))\n",
    "    hj_array[i+600, :, :] = a*b\n",
    "    m_array[i+600, :, :] = np.load('/mnt/recordings/SimulationResults/20170714-2/cell_%s/%s' % (num, 'm.npy'))\n",
    "    Ina[i+600, :, :] = np.load('/mnt/recordings/SimulationResults/20170714-2/cell_%s/%s' % (num, 'xina.npy'))"
   ]
  },
  {
   "cell_type": "markdown",
   "metadata": {},
   "source": [
    "## 閾値決定"
   ]
  },
  {
   "cell_type": "code",
   "execution_count": 14,
   "metadata": {},
   "outputs": [],
   "source": [
    "plt.plot(hj_array[:, 75, 160], label='(75, 160)')\n",
    "plt.plot(hj_array[:, 76, 160], label='(76, 160)')\n",
    "plt.plot(hj_array[:, 77, 160], label='(77, 160)')\n",
    "plt.plot(hj_array[:, 78, 160], label='(78, 160)')\n",
    "plt.plot(hj_array[:, 79, 160], label='(79, 160)')\n",
    "plt.plot(hj_array[:, 80, 160], label='(80, 160)')\n",
    "plt.xlim([370, 390])\n",
    "plt.ylim([0, 1])\n",
    "plt.legend()\n",
    "plt.savefig('/mnt/recordings/AnalysisResult/Seno/simulation/Mahajan/20170723/determine_thres.png', dpi=300)\n",
    "plt.close()"
   ]
  },
  {
   "cell_type": "code",
   "execution_count": 28,
   "metadata": {},
   "outputs": [
    {
     "data": {
      "text/plain": [
       "<matplotlib.image.AxesImage at 0x7f2617311d10>"
      ]
     },
     "execution_count": 28,
     "metadata": {},
     "output_type": "execute_result"
    },
    {
     "data": {
      "image/png": "[encoded data removed]",
      "text/plain": [
       "<matplotlib.figure.Figure at 0x7f2617c07090>"
      ]
     },
     "metadata": {},
     "output_type": "display_data"
    }
   ],
   "source": [
    "plt.imshow((np.sum((Ina[97:100, :, :] < -1), axis=0) > 0))"
   ]
  },
  {
   "cell_type": "code",
   "execution_count": 54,
   "metadata": {},
   "outputs": [
    {
     "data": {
      "text/plain": [
       "<matplotlib.image.AxesImage at 0x7f2616de6150>"
      ]
     },
     "execution_count": 54,
     "metadata": {},
     "output_type": "execute_result"
    },
    {
     "data": {
      "image/png": "[encoded data removed]",
      "text/plain": [
       "<matplotlib.figure.Figure at 0x7f26170a9950>"
      ]
     },
     "metadata": {},
     "output_type": "display_data"
    }
   ],
   "source": [
    "a = ((hj_array[96:97, :, :] < 0.1) * (hj_array[97:98, :, :] >= 0.1))\n",
    "b = ((hj_array[97:98, :, :] < 0.1) * (hj_array[98:99, :, :] >= 0.1))\n",
    "c = ((hj_array[98:99, :, :] < 0.1) * (hj_array[99:100, :, :] >= 0.1))\n",
    "ans = a+b+c\n",
    "plt.imshow(ans[0, :, :])"
   ]
  },
  {
   "cell_type": "code",
   "execution_count": 74,
   "metadata": {},
   "outputs": [
    {
     "data": {
      "text/plain": [
       "array([ 0.,  1.])"
      ]
     },
     "execution_count": 74,
     "metadata": {},
     "output_type": "execute_result"
    }
   ],
   "source": [
    "ans = np.zeros((1,200, 200))\n",
    "for i in range(width):\n",
    "    ans += ((hj_array[100-1-width+i:100-width+i, :, :] < 0.1) * (hj_array[100-width+i:100+1-width+i, :, :] >= 0.1))\n"
   ]
  },
  {
   "cell_type": "code",
   "execution_count": 92,
   "metadata": {},
   "outputs": [
    {
     "data": {
      "text/plain": [
       "<matplotlib.image.AxesImage at 0x7f26164d4f50>"
      ]
     },
     "execution_count": 92,
     "metadata": {},
     "output_type": "execute_result"
    },
    {
     "data": {
      "image/png": "[encoded data removed]",
      "text/plain": [
       "<matplotlib.figure.Figure at 0x7f26165e4ad0>"
      ]
     },
     "metadata": {},
     "output_type": "display_data"
    }
   ],
   "source": [
    "#100ms時\n",
    "width = 3\n",
    "thres = 0.1\n",
    "time = 200\n",
    "im_out = np.zeros([200, 200, 3], dtype=np.uint8)\n",
    "# red\n",
    "im_out[:, :, 0] = (np.sum((Ina[time-3:time, :, :] < -1), axis=0) > 0) * 255\n",
    "# for ...\n",
    "ans = np.zeros((1,200, 200))\n",
    "for i in range(width):\n",
    "    ans += ((hj_array[time-1-width+i:time-width+i, :, :] < 0.1) * (hj_array[time-width+i:time+1-width+i, :, :] >= 0.1))\n",
    "# green\n",
    "im_out[:, :, 1] = ans[0, :, :] * 255\n",
    "# blue\n",
    "im_out[:, :, 2] = ans[0, :, :] * 255\n",
    "#plt.imshow(im_out[90:110, 90:110])\n",
    "plt.imshow(im_out[110:150, 110:150])\n",
    "#plt.imsave('/mnt/recordings/AnalysisResult/Seno/simulation/Mahajan/20170721/sample2.png', im_out)"
   ]
  },
  {
   "cell_type": "code",
   "execution_count": 95,
   "metadata": {},
   "outputs": [
    {
     "data": {
      "text/plain": [
       "[<matplotlib.lines.Line2D at 0x7f26162f20d0>]"
      ]
     },
     "execution_count": 95,
     "metadata": {},
     "output_type": "execute_result"
    },
    {
     "data": {
      "image/png": "[encoded data removed]",
      "text/plain": [
       "<matplotlib.figure.Figure at 0x7f261643da90>"
      ]
     },
     "metadata": {},
     "output_type": "display_data"
    }
   ],
   "source": [
    "plt.plot(hj_array[:, 130, 130])"
   ]
  },
  {
   "cell_type": "code",
   "execution_count": 127,
   "metadata": {},
   "outputs": [
    {
     "data": {
      "text/plain": [
       "0"
      ]
     },
     "execution_count": 127,
     "metadata": {},
     "output_type": "execute_result"
    }
   ],
   "source": [
    "width = 10\n",
    "thres = 0.1\n",
    "output = '10_01_zoom'\n",
    "\n",
    "if not os.path.exists('/mnt/recordings/AnalysisResult/Seno/simulation/Mahajan/20170723/FrontAndTail/%s' % output):\n",
    "    os.makedirs('/mnt/recordings/AnalysisResult/Seno/simulation/Mahajan/20170723/FrontAndTail/%s' % output)\n",
    "\n",
    "\n",
    "for i in range(900):\n",
    "    if i < width+1:\n",
    "        continue\n",
    "    num = '{0:06d}'.format(i-width-1)\n",
    "    im_out = np.zeros([200, 200, 3], dtype=np.uint8)\n",
    "    im_out[:, :, 0] = (np.sum((Ina[i-width:i, :, :] < -1), axis=0) > 0) * 255\n",
    "    ans = np.zeros((1, 200, 200))\n",
    "    for j in range(width):\n",
    "        ans += ((hj_array[i+j-1-width:i+j-width, :, :] < thres) * (hj_array[i+j-width:i+j+1-width, :, :] >= thres))\n",
    "    im_out[:, :, 1] = (ans[0, :, :] > 0) * 255\n",
    "    im_out[:, :, 2] = (ans[0, :, :] > 0) * 255\n",
    "    for j in range(200):\n",
    "        for k in range(200):\n",
    "            if (j-100)*(j-100)+(k-135)*(k-135) < 900:\n",
    "                im_out[j, k, 2] = 255\n",
    "    plt.imsave('/mnt/recordings/AnalysisResult/Seno/simulation/Mahajan/20170723/FrontAndTail/%s/%s.png' % (output, num), im_out[40:100, 120:180, :])\n",
    "subprocess.call('ffmpeg -r 30 -y -i \"/mnt/recordings/AnalysisResult/Seno/simulation/Mahajan/20170723/FrontAndTail/{0}/%06d.png\" -c:v libx264 -pix_fmt yuv420p -qscale 0 \"/mnt/recordings/AnalysisResult/Seno/simulation/Mahajan/20170723/FrontAndTail/{0}/movie.mp4\"'.format(output), shell=True)"
   ]
  },
  {
   "cell_type": "markdown",
   "metadata": {},
   "source": [
    "# zoom up"
   ]
  },
  {
   "cell_type": "code",
   "execution_count": 87,
   "metadata": {
    "collapsed": true
   },
   "outputs": [],
   "source": [
    "numbers = [370, 371, 372, 373, 374, 375, 376, 377, 378, 379, 380, 381, 382, 383, 384, 385]\n",
    "for number in numbers:\n",
    "    num = '{0:06d}'.format(number)\n",
    "    im_out = np.zeros([200, 200, 3], dtype=np.uint8)\n",
    "    threshold = np.ones((200, 200)) * (hj_array[number, :, :] > 0.2) * (hj_array[number, :, :] < 0.4)\n",
    "    im_out[:, :, 0] = (Ina[number, :, :]<-1)*255\n",
    "    im_out[:, :, 1] = threshold*(1-hj_array[number, :, :])*255\n",
    "    im_out[:, :, 2] = (1-hj_array[number, :, :])*255\n",
    "    plt.imsave('/mnt/recordings/AnalysisResult/Seno/simulation/Mahajan/20170723/threshold/%s.png' % num, im_out[55:90, 145:180, :])"
   ]
  },
  {
   "cell_type": "code",
   "execution_count": 124,
   "metadata": {
    "collapsed": true
   },
   "outputs": [],
   "source": [
    "a = np.ones((200, 200))\n",
    "a[40:100, 120:180] = 0"
   ]
  },
  {
   "cell_type": "code",
   "execution_count": 125,
   "metadata": {},
   "outputs": [
    {
     "data": {
      "image/png": "[encoded data removed]",
      "text/plain": [
       "<matplotlib.figure.Figure at 0x7f2616141ad0>"
      ]
     },
     "metadata": {},
     "output_type": "display_data"
    }
   ],
   "source": [
    "plt.imshow(a)\n",
    "plt.imsave('/mnt/recordings/AnalysisResult/Seno/simulation/Mahajan/20170723/FrontAndTail/ROI.png', a)"
   ]
  },
  {
   "cell_type": "code",
   "execution_count": 4,
   "metadata": {
    "collapsed": true
   },
   "outputs": [],
   "source": [
    "h = np.zeros((1001, 200, 200))\n",
    "j = np.zeros((1001, 200, 200))\n",
    "for i in range(400):\n",
    "    num = '{0:04d}'.format(i)\n",
    "    h[i, :, :] = np.load('/mnt/recordings/SimulationResults/20170711-4/cell_%s/%s' % (num, 'h.npy'))\n",
    "    j[i, :, :] = np.load('/mnt/recordings/SimulationResults/20170711-4/cell_%s/%s' % (num, 'j.npy'))\n",
    "for i in range(200):\n",
    "    num = '{0:04d}'.format(i)\n",
    "    h[i+400, :, :] = np.load('/mnt/recordings/SimulationResults/20170713-2/cell_%s/%s' % (num, 'h.npy'))\n",
    "    j[i+400, :, :] = np.load('/mnt/recordings/SimulationResults/20170713-2/cell_%s/%s' % (num, 'j.npy'))\n",
    "for i in range(400):\n",
    "    num = '{0:04d}'.format(i)\n",
    "    h[i+600, :, :] = np.load('/mnt/recordings/SimulationResults/20170714-2/cell_%s/%s' % (num, 'h.npy'))\n",
    "    j[i+600, :, :] = np.load('/mnt/recordings/SimulationResults/20170714-2/cell_%s/%s' % (num, 'j.npy'))"
   ]
  },
  {
   "cell_type": "code",
   "execution_count": 10,
   "metadata": {},
   "outputs": [
    {
     "data": {
      "text/plain": [
       "(300, 400)"
      ]
     },
     "execution_count": 10,
     "metadata": {},
     "output_type": "execute_result"
    },
    {
     "data": {
      "image/png": "[encoded data removed]",
      "text/plain": [
       "<matplotlib.figure.Figure at 0x7f7802742f50>"
      ]
     },
     "metadata": {},
     "output_type": "display_data"
    }
   ],
   "source": [
    "plt.plot(h[:, 75, 160])\n",
    "plt.plot(j[:, 75, 160])\n",
    "plt.plot(h[:, 75, 160]*j[:, 75, 160])\n",
    "plt.xlim([300, 400])"
   ]
  },
  {
   "cell_type": "code",
   "execution_count": null,
   "metadata": {
    "collapsed": true
   },
   "outputs": [],
   "source": []
  }
 ],
 "metadata": {
  "kernelspec": {
   "display_name": "Python 2",
   "language": "python",
   "name": "python2"
  },
  "language_info": {
   "codemirror_mode": {
    "name": "ipython",
    "version": 2
   },
   "file_extension": ".py",
   "mimetype": "text/x-python",
   "name": "python",
   "nbconvert_exporter": "python",
   "pygments_lexer": "ipython2",
   "version": "2.7.13"
  }
 },
 "nbformat": 4,
 "nbformat_minor": 2
}
