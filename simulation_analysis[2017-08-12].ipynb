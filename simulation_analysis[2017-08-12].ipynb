{
 "cells": [
  {
   "cell_type": "code",
   "execution_count": 1,
   "metadata": {
    "collapsed": true
   },
   "outputs": [],
   "source": [
    "import numpy as np\n",
    "import matplotlib.pyplot as plt\n",
    "import os\n",
    "import json\n",
    "import subprocess\n",
    "import cv2\n",
    "import glob\n",
    "%matplotlib inline"
   ]
  },
  {
   "cell_type": "code",
   "execution_count": 2,
   "metadata": {
    "collapsed": true
   },
   "outputs": [],
   "source": [
    "from opmap.RawCam import RawCam\n",
    "from opmap.VmemMap import VmemMap\n",
    "from opmap.PhaseMap import PhaseMap\n",
    "from opmap.PhaseVarianceMap import PhaseVarianceMap\n",
    "from opmap.util import makeMovie"
   ]
  },
  {
   "cell_type": "markdown",
   "metadata": {
    "collapsed": true
   },
   "source": [
    "# hj map & Ina map & pvmap"
   ]
  },
  {
   "cell_type": "code",
   "execution_count": 3,
   "metadata": {
    "collapsed": true
   },
   "outputs": [],
   "source": [
    "width = 10\n",
    "thres = 0.05\n",
    "size_h = 300\n",
    "size_w = 300\n",
    "\n",
    "data_dirs = [\n",
    "    '/mnt/recordings/SimulationResults/20170809-1',\n",
    "    '/mnt/recordings/SimulationResults/20170809-4',\n",
    "    '/mnt/recordings/SimulationResults/20170810-3',\n",
    "]\n",
    "\n"
   ]
  },
  {
   "cell_type": "code",
   "execution_count": 4,
   "metadata": {},
   "outputs": [
    {
     "name": "stdout",
     "output_type": "stream",
     "text": [
      "/mnt/recordings/SimulationResults/20170809-1\n",
      "/mnt/recordings/SimulationResults/20170809-4\n",
      "/mnt/recordings/SimulationResults/20170810-3\n"
     ]
    }
   ],
   "source": [
    "for data_dir in data_dirs:\n",
    "    \n",
    "    print data_dir\n",
    "\n",
    "    save_dir = data_dir.replace( \n",
    "        '/SimulationResults/',\n",
    "        '/AnalysisResult/Seno/simulation/Mahajan/20170812/'\n",
    "    )\n",
    "    if not os.path.exists(save_dir):\n",
    "        os.makedirs(save_dir)\n",
    "\n",
    "    length = len( glob.glob(data_dir+ '/vmem*.npy') )\n",
    "\n",
    "    vm_array = np.zeros((length, size_h, size_w)) \n",
    "    hj_array = np.zeros((length, size_h, size_w))\n",
    "    m_array = np.zeros((length, size_h, size_w))\n",
    "    Ina = np.zeros((length, size_h, size_w))\n",
    "\n",
    "    for i in range(length):\n",
    "        num = '{0:04d}'.format(i)\n",
    "        a = np.load(  os.path.join( data_dir, 'cell_%s/%s' % (num, 'h.npy')) )\n",
    "        b = np.load(  os.path.join( data_dir, 'cell_%s/%s' % (num, 'j.npy')) )\n",
    "        hj_array[i, :, :] = a*b\n",
    "        vm_array[i, :, :] = np.load( os.path.join( data_dir, 'vmem_%s.npy' % (num)) )\n",
    "        m_array[i, :, :] = np.load( os.path.join( data_dir, 'cell_%s/%s' % (num, 'm.npy')) )\n",
    "        Ina[i, :, :] = np.load( os.path.join( data_dir, 'cell_%s/%s' % (num, 'xina.npy')) )\n",
    "\n",
    "    with open( os.path.join(save_dir,  \"array.npz\") , 'w') as outf:\n",
    "        np.savez(\n",
    "            outf, \n",
    "            vm_array = vm_array,\n",
    "            hj_array = hj_array,\n",
    "            Ina = Ina\n",
    "        )"
   ]
  },
  {
   "cell_type": "code",
   "execution_count": 26,
   "metadata": {},
   "outputs": [
    {
     "data": {
      "image/png": "[encoded data removed]",
      "text/plain": [
       "<matplotlib.figure.Figure at 0x7f079cfc8110>"
      ]
     },
     "metadata": {},
     "output_type": "display_data"
    }
   ],
   "source": [
    "\n",
    "x = np.arange(size_w)\n",
    "y = np.arange(size_h)\n",
    "X, Y = np.meshgrid(x, y)\n",
    "\n",
    "\n",
    "for i in range(400):\n",
    "    if i < width+1:\n",
    "        continue\n",
    "    \n",
    "    plt.clf()\n",
    "    \n",
    "    im_out = np.zeros([size_h, size_w, 3], dtype=np.uint8)\n",
    "    \n",
    "    im_out[:, :, 0] = (np.sum((Ina[i-width:i, :, :] < -1), axis=0) > 0) * 255\n",
    "    \n",
    "    ans = np.zeros((1, size_h, size_w))\n",
    "    for j in range(width):\n",
    "        ans += ((hj_array[i+j-1-width:i+j-width, :, :] < thres) * (hj_array[i+j-width:i+j+1-width, :, :] >= thres))\n",
    "        \n",
    "    im_out[:, :, 1] = (ans[0, :, :] > 0) * 255\n",
    "    im_out[:, :, 2] = (ans[0, :, :] > 0) * 255\n",
    "\n",
    "    plt.subplot(1,3,1)\n",
    "    plt.imshow(vm_array[i, :, :], cmap=)\n",
    "    \n",
    "    #plt.imsave(os.path.join(save_dir, 'wfwt_{0:0>6}.png'.format(i-width-1)), im_out)    \n",
    "    plt.subplot(1,3,2)\n",
    "    plt.imshow(im_out)\n",
    "    \n",
    "    \n",
    "    Z = hj_array[i,:,:] \n",
    "    Z = Z[::-1, :]\n",
    "    plt.subplot(1,3,3)\n",
    "    plt.contour(X, Y, Z)\n",
    "    \n",
    "    plt.gca().set_aspect('equal')    \n",
    "    plt.savefig(os.path.join(save_dir, 'contour_{0:0>6}.png'.format(i-width-1)))    "
   ]
  },
  {
   "cell_type": "code",
   "execution_count": 27,
   "metadata": {},
   "outputs": [
    {
     "data": {
      "text/plain": [
       "0"
      ]
     },
     "execution_count": 27,
     "metadata": {},
     "output_type": "execute_result"
    }
   ],
   "source": [
    "subprocess.call(\n",
    "    'ffmpeg -r 30 -y -i \"{0}\" -c:v libx264 -pix_fmt yuv420p -qscale 0 \"{1}\"'.format(\n",
    "        os.path.join(save_dir, 'contour_%06d.png'),\n",
    "        os.path.join(save_dir, 'contour.mp4'),\n",
    "    ),\n",
    "    shell=True\n",
    ")"
   ]
  },
  {
   "cell_type": "markdown",
   "metadata": {},
   "source": [
    "# zoom up"
   ]
  },
  {
   "cell_type": "code",
   "execution_count": 38,
   "metadata": {},
   "outputs": [
    {
     "data": {
      "text/plain": [
       "0"
      ]
     },
     "execution_count": 38,
     "metadata": {},
     "output_type": "execute_result"
    }
   ],
   "source": [
    "width = 10\n",
    "thres = 0.05\n",
    "output = '10_005_zoom'\n",
    "\n",
    "if not os.path.exists('/mnt/recordings/AnalysisResult/Seno/simulation/Mahajan/20170731/FrontAndTail/%s' % output):\n",
    "    os.makedirs('/mnt/recordings/AnalysisResult/Seno/simulation/Mahajan/20170731/FrontAndTail/%s' % output)\n",
    "\n",
    "\n",
    "for i in range(400):\n",
    "    if i < width+1:\n",
    "        continue\n",
    "    num = '{0:06d}'.format(i-width-1)\n",
    "    im_out = np.zeros([200, 200, 3], dtype=np.uint8)\n",
    "    im_out[:, :, 0] = (np.sum((Ina[i-width:i, :, :] < -1), axis=0) > 0) * 255\n",
    "    ans = np.zeros((1, 200, 200))\n",
    "    for j in range(width):\n",
    "        ans += ((hj_array[i+j-1-width:i+j-width, :, :] < thres) * (hj_array[i+j-width:i+j+1-width, :, :] >= thres))\n",
    "    im_out[:, :, 1] = (ans[0, :, :] > 0) * 255\n",
    "    im_out[:, :, 2] = (ans[0, :, :] > 0) * 255\n",
    "    \"\"\"\n",
    "    for j in range(200):\n",
    "        for k in range(200):\n",
    "            if (j-100)*(j-100)+(k-135)*(k-135) < 900:\n",
    "                im_out[j, k, 2] = 255\n",
    "    \"\"\"\n",
    "    plt.imsave('/mnt/recordings/AnalysisResult/Seno/simulation/Mahajan/20170731/FrontAndTail/%s/%s.png' % (output, num), im_out[30:170, :140, :])\n",
    "subprocess.call('ffmpeg -r 30 -y -i \"/mnt/recordings/AnalysisResult/Seno/simulation/Mahajan/20170731/FrontAndTail/{0}/%06d.png\" -c:v libx264 -pix_fmt yuv420p -qscale 0 \"/mnt/recordings/AnalysisResult/Seno/simulation/Mahajan/20170731/FrontAndTail/{0}/movie.mp4\"'.format(output), shell=True)"
   ]
  },
  {
   "cell_type": "code",
   "execution_count": null,
   "metadata": {
    "collapsed": true
   },
   "outputs": [],
   "source": []
  }
 ],
 "metadata": {
  "kernelspec": {
   "display_name": "Python 2",
   "language": "python",
   "name": "python2"
  },
  "language_info": {
   "codemirror_mode": {
    "name": "ipython",
    "version": 2
   },
   "file_extension": ".py",
   "mimetype": "text/x-python",
   "name": "python",
   "nbconvert_exporter": "python",
   "pygments_lexer": "ipython2",
   "version": "2.7.13"
  }
 },
 "nbformat": 4,
 "nbformat_minor": 2
}
